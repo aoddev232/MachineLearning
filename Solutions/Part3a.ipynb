{
 "cells": [
  {
   "cell_type": "markdown",
   "id": "0e71ed18",
   "metadata": {},
   "source": [
    "## Week 3 : SVM Classifier Solutions for the tasks"
   ]
  },
  {
   "cell_type": "markdown",
   "id": "e2d7af20",
   "metadata": {},
   "source": [
    "In this tutorial, we will use a smaller version of the MNIST Digit dataset and perform classification of the digits using SVM Classifier"
   ]
  },
  {
   "cell_type": "markdown",
   "id": "3c2aec6c",
   "metadata": {},
   "source": [
    "#### Import Packages"
   ]
  },
  {
   "cell_type": "code",
   "execution_count": 1,
   "id": "b67bb99d",
   "metadata": {},
   "outputs": [],
   "source": [
    "import numpy as np\n",
    "import pandas as pd\n",
    "import matplotlib.pyplot as plt\n",
    "import seaborn as sns\n",
    "from sklearn.svm import SVC\n",
    "from sklearn.metrics import accuracy_score\n",
    "from sklearn.model_selection import train_test_split"
   ]
  },
  {
   "cell_type": "markdown",
   "id": "aa13c09f",
   "metadata": {},
   "source": [
    "#### Load data"
   ]
  },
  {
   "cell_type": "code",
   "execution_count": 2,
   "id": "8e4f86ee",
   "metadata": {},
   "outputs": [
    {
     "name": "stdout",
     "output_type": "stream",
     "text": [
      "Dimensions: (1800, 785)\n"
     ]
    },
    {
     "data": {
      "text/html": [
       "<div>\n",
       "<style scoped>\n",
       "    .dataframe tbody tr th:only-of-type {\n",
       "        vertical-align: middle;\n",
       "    }\n",
       "\n",
       "    .dataframe tbody tr th {\n",
       "        vertical-align: top;\n",
       "    }\n",
       "\n",
       "    .dataframe thead th {\n",
       "        text-align: right;\n",
       "    }\n",
       "</style>\n",
       "<table border=\"1\" class=\"dataframe\">\n",
       "  <thead>\n",
       "    <tr style=\"text-align: right;\">\n",
       "      <th></th>\n",
       "      <th>label</th>\n",
       "      <th>pixel0</th>\n",
       "      <th>pixel1</th>\n",
       "      <th>pixel2</th>\n",
       "      <th>pixel3</th>\n",
       "      <th>pixel4</th>\n",
       "      <th>pixel5</th>\n",
       "      <th>pixel6</th>\n",
       "      <th>pixel7</th>\n",
       "      <th>pixel8</th>\n",
       "      <th>...</th>\n",
       "      <th>pixel774</th>\n",
       "      <th>pixel775</th>\n",
       "      <th>pixel776</th>\n",
       "      <th>pixel777</th>\n",
       "      <th>pixel778</th>\n",
       "      <th>pixel779</th>\n",
       "      <th>pixel780</th>\n",
       "      <th>pixel781</th>\n",
       "      <th>pixel782</th>\n",
       "      <th>pixel783</th>\n",
       "    </tr>\n",
       "  </thead>\n",
       "  <tbody>\n",
       "    <tr>\n",
       "      <th>0</th>\n",
       "      <td>0</td>\n",
       "      <td>0</td>\n",
       "      <td>0</td>\n",
       "      <td>0</td>\n",
       "      <td>0</td>\n",
       "      <td>0</td>\n",
       "      <td>0</td>\n",
       "      <td>0</td>\n",
       "      <td>0</td>\n",
       "      <td>0</td>\n",
       "      <td>...</td>\n",
       "      <td>0</td>\n",
       "      <td>0</td>\n",
       "      <td>0</td>\n",
       "      <td>0</td>\n",
       "      <td>0</td>\n",
       "      <td>0</td>\n",
       "      <td>0</td>\n",
       "      <td>0</td>\n",
       "      <td>0</td>\n",
       "      <td>0</td>\n",
       "    </tr>\n",
       "    <tr>\n",
       "      <th>1</th>\n",
       "      <td>1</td>\n",
       "      <td>0</td>\n",
       "      <td>0</td>\n",
       "      <td>0</td>\n",
       "      <td>0</td>\n",
       "      <td>0</td>\n",
       "      <td>0</td>\n",
       "      <td>0</td>\n",
       "      <td>0</td>\n",
       "      <td>0</td>\n",
       "      <td>...</td>\n",
       "      <td>0</td>\n",
       "      <td>0</td>\n",
       "      <td>0</td>\n",
       "      <td>0</td>\n",
       "      <td>0</td>\n",
       "      <td>0</td>\n",
       "      <td>0</td>\n",
       "      <td>0</td>\n",
       "      <td>0</td>\n",
       "      <td>0</td>\n",
       "    </tr>\n",
       "    <tr>\n",
       "      <th>2</th>\n",
       "      <td>2</td>\n",
       "      <td>0</td>\n",
       "      <td>0</td>\n",
       "      <td>0</td>\n",
       "      <td>0</td>\n",
       "      <td>0</td>\n",
       "      <td>0</td>\n",
       "      <td>0</td>\n",
       "      <td>0</td>\n",
       "      <td>0</td>\n",
       "      <td>...</td>\n",
       "      <td>0</td>\n",
       "      <td>0</td>\n",
       "      <td>0</td>\n",
       "      <td>0</td>\n",
       "      <td>0</td>\n",
       "      <td>0</td>\n",
       "      <td>0</td>\n",
       "      <td>0</td>\n",
       "      <td>0</td>\n",
       "      <td>0</td>\n",
       "    </tr>\n",
       "    <tr>\n",
       "      <th>3</th>\n",
       "      <td>3</td>\n",
       "      <td>0</td>\n",
       "      <td>0</td>\n",
       "      <td>0</td>\n",
       "      <td>0</td>\n",
       "      <td>0</td>\n",
       "      <td>0</td>\n",
       "      <td>0</td>\n",
       "      <td>0</td>\n",
       "      <td>0</td>\n",
       "      <td>...</td>\n",
       "      <td>0</td>\n",
       "      <td>0</td>\n",
       "      <td>0</td>\n",
       "      <td>0</td>\n",
       "      <td>0</td>\n",
       "      <td>0</td>\n",
       "      <td>0</td>\n",
       "      <td>0</td>\n",
       "      <td>0</td>\n",
       "      <td>0</td>\n",
       "    </tr>\n",
       "    <tr>\n",
       "      <th>4</th>\n",
       "      <td>4</td>\n",
       "      <td>0</td>\n",
       "      <td>0</td>\n",
       "      <td>0</td>\n",
       "      <td>0</td>\n",
       "      <td>0</td>\n",
       "      <td>0</td>\n",
       "      <td>0</td>\n",
       "      <td>0</td>\n",
       "      <td>0</td>\n",
       "      <td>...</td>\n",
       "      <td>0</td>\n",
       "      <td>0</td>\n",
       "      <td>0</td>\n",
       "      <td>0</td>\n",
       "      <td>0</td>\n",
       "      <td>0</td>\n",
       "      <td>0</td>\n",
       "      <td>0</td>\n",
       "      <td>0</td>\n",
       "      <td>0</td>\n",
       "    </tr>\n",
       "  </tbody>\n",
       "</table>\n",
       "<p>5 rows × 785 columns</p>\n",
       "</div>"
      ],
      "text/plain": [
       "   label  pixel0  pixel1  pixel2  pixel3  pixel4  pixel5  pixel6  pixel7  \\\n",
       "0      0       0       0       0       0       0       0       0       0   \n",
       "1      1       0       0       0       0       0       0       0       0   \n",
       "2      2       0       0       0       0       0       0       0       0   \n",
       "3      3       0       0       0       0       0       0       0       0   \n",
       "4      4       0       0       0       0       0       0       0       0   \n",
       "\n",
       "   pixel8  ...  pixel774  pixel775  pixel776  pixel777  pixel778  pixel779  \\\n",
       "0       0  ...         0         0         0         0         0         0   \n",
       "1       0  ...         0         0         0         0         0         0   \n",
       "2       0  ...         0         0         0         0         0         0   \n",
       "3       0  ...         0         0         0         0         0         0   \n",
       "4       0  ...         0         0         0         0         0         0   \n",
       "\n",
       "   pixel780  pixel781  pixel782  pixel783  \n",
       "0         0         0         0         0  \n",
       "1         0         0         0         0  \n",
       "2         0         0         0         0  \n",
       "3         0         0         0         0  \n",
       "4         0         0         0         0  \n",
       "\n",
       "[5 rows x 785 columns]"
      ]
     },
     "execution_count": 2,
     "metadata": {},
     "output_type": "execute_result"
    }
   ],
   "source": [
    "data = pd.read_csv('mnist_digits.csv')\n",
    "print(\"Dimensions:\", data.shape)\n",
    "data.head()"
   ]
  },
  {
   "cell_type": "code",
   "execution_count": 3,
   "id": "fa7f3dad",
   "metadata": {},
   "outputs": [
    {
     "data": {
      "text/plain": [
       "0    0\n",
       "1    1\n",
       "2    2\n",
       "3    3\n",
       "4    4\n",
       "5    5\n",
       "6    6\n",
       "7    7\n",
       "8    8\n",
       "9    9\n",
       "Name: label, dtype: int64"
      ]
     },
     "execution_count": 3,
     "metadata": {},
     "output_type": "execute_result"
    }
   ],
   "source": [
    "target = data.pop('label')\n",
    "target.head(10)"
   ]
  },
  {
   "cell_type": "markdown",
   "id": "1b7b2a60",
   "metadata": {},
   "source": [
    "#### Understanding the data"
   ]
  },
  {
   "cell_type": "code",
   "execution_count": 4,
   "id": "0ba62d41",
   "metadata": {},
   "outputs": [
    {
     "name": "stdout",
     "output_type": "stream",
     "text": [
      "  0   0   0   0   0   0   0   0   0   0   0   0   0   0   0   0   0   0   0   0   0   0   0   0   0   0   0   0\n",
      "  0   0   0   0   0   0   0   0   0   0   0   0   0   0   0   0   0   0   0   0   0   0   0   0   0   0   0   0\n",
      "  0   0   0   0   0   0   0   0   0   0   0   0   0   0   0   0   0   0   0   0   0   0   0   0   0   0   0   0\n",
      "  0   0   0   0   0   0   0   0   0   0   0   0   0   0   0   0   0   0   0   0   0   0   0   0   0   0   0   0\n",
      "  0   0   0   0   0   0   0   0   0   0   0   0   0   0   0   0   0   0   0   0   0   0   0   0   0   0   0   0\n",
      "  0   0   0   0   0   0   0   0   0   0   0   0   0   0   0   0   0   0   0   0   0   0   0   0   0   0   0   0\n",
      "  0   0   0   0   0   0   0   0   0   0   0   0   0   0   0  52 235 241 241 135 108 108  40   0   0   0   0   0\n",
      "  0   0   0   0   0   0   0   0   0   0   0   0   0   5  94 241 253 253 253 253 253 253 237 145   0   0   0   0\n",
      "  0   0   0   0   0   0   0   0   0   0   0  13  95 216 253 254 253 223 173 173 190 253 253 240   0   0   0   0\n",
      "  0   0   0   0   0   0   0   0   0   0  50  97 253 253 253 254 253 173  21   0  12  85 253 250 165   0   0   0\n",
      "  0   0   0   0   0   0   0   0   0  50 236 253 253 253 253 254 145   7   0   0   0  32 234 253 147   0   0   0\n",
      "  0   0   0   0   0   0   0   0  77 195 253 253 253 223  80  80   4   0   0   0   0  28 224 253 161   0   0   0\n",
      "  0   0   0   0   0   0   0  10 218 253 253 235 141  39   0   0   0   0   0   0   0  55 253 252 107   0   0   0\n",
      "  0   0   0   0   0   0   6 173 253 253 250  75   0   0   0   0   0   0   0   0  32 220 253 240   0   0   0   0\n",
      "  0   0   0   0   0   0 108 253 253 253 128   0   0   0   0   0   0   0   0   0  54 253 253 240   0   0   0   0\n",
      "  0   0   0   0   0   0 171 254 254 187   0   0   0   0   0   0   0   0   0  32 220 255 255 177   0   0   0   0\n",
      "  0   0   0   0   0  52 175 253 219 143  35   0   0   0   0   0   0   0   0 124 253 253 185  62   0   0   0   0\n",
      "  0   0   0   0   0 121 253 253 103   0   0   0   0   0   0   0   0   0 193 248 253 253 142   0   0   0   0   0\n",
      "  0   0   0   0   0 234 253 253  60   0   0   0   0   0   0   0 133 214 247 253 236  81  35   0   0   0   0   0\n",
      "  0   0   0   0   0 183 253 253 110   0   0   0   0   4  68 202 251 253 253 200 147   0   0   0   0   0   0   0\n",
      "  0   0   0   0   0 254 253 253 197  82  54 145 187 191 253 254 253 233 157  14   0   0   0   0   0   0   0   0\n",
      "  0   0   0   0   0 143 251 253 253 253 253 253 253 253 253 255 158  50   0   0   0   0   0   0   0   0   0   0\n",
      "  0   0   0   0   0   0 145 236 253 253 253 235 226 219  93  94   5   0   0   0   0   0   0   0   0   0   0   0\n",
      "  0   0   0   0   0   0   0  40 107 107 107  34   0   0   0   0   0   0   0   0   0   0   0   0   0   0   0   0\n",
      "  0   0   0   0   0   0   0   0   0   0   0   0   0   0   0   0   0   0   0   0   0   0   0   0   0   0   0   0\n",
      "  0   0   0   0   0   0   0   0   0   0   0   0   0   0   0   0   0   0   0   0   0   0   0   0   0   0   0   0\n",
      "  0   0   0   0   0   0   0   0   0   0   0   0   0   0   0   0   0   0   0   0   0   0   0   0   0   0   0   0\n",
      "  0   0   0   0   0   0   0   0   0   0   0   0   0   0   0   0   0   0   0   0   0   0   0   0   0   0   0   0\n"
     ]
    }
   ],
   "source": [
    "# Each observation contains values of the pixels arranged as 28*28, print the first observation gives the following result: \n",
    "\n",
    "# Reshape the observation into matrix first and then print\n",
    "for row in data.loc[0].values.reshape(28,28):\n",
    "    print(' '.join('{:3}'.format(value) for value in row))"
   ]
  },
  {
   "cell_type": "code",
   "execution_count": 5,
   "id": "87b83716",
   "metadata": {},
   "outputs": [
    {
     "data": {
      "image/png": "[encoded data removed]",
      "text/plain": [
       "<Figure size 1800x720 with 10 Axes>"
      ]
     },
     "metadata": {},
     "output_type": "display_data"
    }
   ],
   "source": [
    "def plot_gallery(images, h, w, n_row=2, n_col=5):\n",
    "    \"\"\"Helper function to plot a gallery of portraits\"\"\"\n",
    "    plt.figure(figsize=(5 * n_col, 5 * n_row))\n",
    "    plt.subplots_adjust(bottom=0, left=.01, right=.99, top=.90, hspace=.35)\n",
    "    for i in range(n_row * n_col):\n",
    "        plt.subplot(n_row, n_col, i + 1)\n",
    "        plt.imshow(images[i].reshape((h, w)), cmap=plt.cm.gray)\n",
    "        plt.xticks(())\n",
    "        plt.yticks(())\n",
    "        \n",
    "# Reshaping the pixel value to images \n",
    "# plotting the first 10 observations - \n",
    "plot_gallery(data.loc[range(10)].values.reshape(10, 28,28), 28, 28)"
   ]
  },
  {
   "cell_type": "markdown",
   "id": "8a5ca7d4",
   "metadata": {},
   "source": [
    "#### Basic checks before we move onto modelling :- "
   ]
  },
  {
   "cell_type": "code",
   "execution_count": 6,
   "id": "7b7213b2",
   "metadata": {},
   "outputs": [
    {
     "data": {
      "text/plain": [
       "0"
      ]
     },
     "execution_count": 6,
     "metadata": {},
     "output_type": "execute_result"
    }
   ],
   "source": [
    "data.isnull().sum().sum()"
   ]
  },
  {
   "cell_type": "markdown",
   "id": "96ff8f0f",
   "metadata": {},
   "source": [
    "There are no missing values in this dataset."
   ]
  },
  {
   "cell_type": "code",
   "execution_count": 7,
   "id": "c841b01e",
   "metadata": {},
   "outputs": [
    {
     "data": {
      "text/html": [
       "<div>\n",
       "<style scoped>\n",
       "    .dataframe tbody tr th:only-of-type {\n",
       "        vertical-align: middle;\n",
       "    }\n",
       "\n",
       "    .dataframe tbody tr th {\n",
       "        vertical-align: top;\n",
       "    }\n",
       "\n",
       "    .dataframe thead th {\n",
       "        text-align: right;\n",
       "    }\n",
       "</style>\n",
       "<table border=\"1\" class=\"dataframe\">\n",
       "  <thead>\n",
       "    <tr style=\"text-align: right;\">\n",
       "      <th></th>\n",
       "      <th>pixel0</th>\n",
       "      <th>pixel1</th>\n",
       "      <th>pixel2</th>\n",
       "      <th>pixel3</th>\n",
       "      <th>pixel4</th>\n",
       "      <th>pixel5</th>\n",
       "      <th>pixel6</th>\n",
       "      <th>pixel7</th>\n",
       "      <th>pixel8</th>\n",
       "      <th>pixel9</th>\n",
       "      <th>...</th>\n",
       "      <th>pixel774</th>\n",
       "      <th>pixel775</th>\n",
       "      <th>pixel776</th>\n",
       "      <th>pixel777</th>\n",
       "      <th>pixel778</th>\n",
       "      <th>pixel779</th>\n",
       "      <th>pixel780</th>\n",
       "      <th>pixel781</th>\n",
       "      <th>pixel782</th>\n",
       "      <th>pixel783</th>\n",
       "    </tr>\n",
       "  </thead>\n",
       "  <tbody>\n",
       "    <tr>\n",
       "      <th>count</th>\n",
       "      <td>1800.0</td>\n",
       "      <td>1800.0</td>\n",
       "      <td>1800.0</td>\n",
       "      <td>1800.0</td>\n",
       "      <td>1800.0</td>\n",
       "      <td>1800.0</td>\n",
       "      <td>1800.0</td>\n",
       "      <td>1800.0</td>\n",
       "      <td>1800.0</td>\n",
       "      <td>1800.0</td>\n",
       "      <td>...</td>\n",
       "      <td>1800.000000</td>\n",
       "      <td>1800.0</td>\n",
       "      <td>1800.0</td>\n",
       "      <td>1800.0</td>\n",
       "      <td>1800.0</td>\n",
       "      <td>1800.0</td>\n",
       "      <td>1800.0</td>\n",
       "      <td>1800.0</td>\n",
       "      <td>1800.0</td>\n",
       "      <td>1800.0</td>\n",
       "    </tr>\n",
       "    <tr>\n",
       "      <th>mean</th>\n",
       "      <td>0.0</td>\n",
       "      <td>0.0</td>\n",
       "      <td>0.0</td>\n",
       "      <td>0.0</td>\n",
       "      <td>0.0</td>\n",
       "      <td>0.0</td>\n",
       "      <td>0.0</td>\n",
       "      <td>0.0</td>\n",
       "      <td>0.0</td>\n",
       "      <td>0.0</td>\n",
       "      <td>...</td>\n",
       "      <td>0.057778</td>\n",
       "      <td>0.0</td>\n",
       "      <td>0.0</td>\n",
       "      <td>0.0</td>\n",
       "      <td>0.0</td>\n",
       "      <td>0.0</td>\n",
       "      <td>0.0</td>\n",
       "      <td>0.0</td>\n",
       "      <td>0.0</td>\n",
       "      <td>0.0</td>\n",
       "    </tr>\n",
       "    <tr>\n",
       "      <th>std</th>\n",
       "      <td>0.0</td>\n",
       "      <td>0.0</td>\n",
       "      <td>0.0</td>\n",
       "      <td>0.0</td>\n",
       "      <td>0.0</td>\n",
       "      <td>0.0</td>\n",
       "      <td>0.0</td>\n",
       "      <td>0.0</td>\n",
       "      <td>0.0</td>\n",
       "      <td>0.0</td>\n",
       "      <td>...</td>\n",
       "      <td>2.034990</td>\n",
       "      <td>0.0</td>\n",
       "      <td>0.0</td>\n",
       "      <td>0.0</td>\n",
       "      <td>0.0</td>\n",
       "      <td>0.0</td>\n",
       "      <td>0.0</td>\n",
       "      <td>0.0</td>\n",
       "      <td>0.0</td>\n",
       "      <td>0.0</td>\n",
       "    </tr>\n",
       "    <tr>\n",
       "      <th>min</th>\n",
       "      <td>0.0</td>\n",
       "      <td>0.0</td>\n",
       "      <td>0.0</td>\n",
       "      <td>0.0</td>\n",
       "      <td>0.0</td>\n",
       "      <td>0.0</td>\n",
       "      <td>0.0</td>\n",
       "      <td>0.0</td>\n",
       "      <td>0.0</td>\n",
       "      <td>0.0</td>\n",
       "      <td>...</td>\n",
       "      <td>0.000000</td>\n",
       "      <td>0.0</td>\n",
       "      <td>0.0</td>\n",
       "      <td>0.0</td>\n",
       "      <td>0.0</td>\n",
       "      <td>0.0</td>\n",
       "      <td>0.0</td>\n",
       "      <td>0.0</td>\n",
       "      <td>0.0</td>\n",
       "      <td>0.0</td>\n",
       "    </tr>\n",
       "    <tr>\n",
       "      <th>25%</th>\n",
       "      <td>0.0</td>\n",
       "      <td>0.0</td>\n",
       "      <td>0.0</td>\n",
       "      <td>0.0</td>\n",
       "      <td>0.0</td>\n",
       "      <td>0.0</td>\n",
       "      <td>0.0</td>\n",
       "      <td>0.0</td>\n",
       "      <td>0.0</td>\n",
       "      <td>0.0</td>\n",
       "      <td>...</td>\n",
       "      <td>0.000000</td>\n",
       "      <td>0.0</td>\n",
       "      <td>0.0</td>\n",
       "      <td>0.0</td>\n",
       "      <td>0.0</td>\n",
       "      <td>0.0</td>\n",
       "      <td>0.0</td>\n",
       "      <td>0.0</td>\n",
       "      <td>0.0</td>\n",
       "      <td>0.0</td>\n",
       "    </tr>\n",
       "    <tr>\n",
       "      <th>50%</th>\n",
       "      <td>0.0</td>\n",
       "      <td>0.0</td>\n",
       "      <td>0.0</td>\n",
       "      <td>0.0</td>\n",
       "      <td>0.0</td>\n",
       "      <td>0.0</td>\n",
       "      <td>0.0</td>\n",
       "      <td>0.0</td>\n",
       "      <td>0.0</td>\n",
       "      <td>0.0</td>\n",
       "      <td>...</td>\n",
       "      <td>0.000000</td>\n",
       "      <td>0.0</td>\n",
       "      <td>0.0</td>\n",
       "      <td>0.0</td>\n",
       "      <td>0.0</td>\n",
       "      <td>0.0</td>\n",
       "      <td>0.0</td>\n",
       "      <td>0.0</td>\n",
       "      <td>0.0</td>\n",
       "      <td>0.0</td>\n",
       "    </tr>\n",
       "    <tr>\n",
       "      <th>75%</th>\n",
       "      <td>0.0</td>\n",
       "      <td>0.0</td>\n",
       "      <td>0.0</td>\n",
       "      <td>0.0</td>\n",
       "      <td>0.0</td>\n",
       "      <td>0.0</td>\n",
       "      <td>0.0</td>\n",
       "      <td>0.0</td>\n",
       "      <td>0.0</td>\n",
       "      <td>0.0</td>\n",
       "      <td>...</td>\n",
       "      <td>0.000000</td>\n",
       "      <td>0.0</td>\n",
       "      <td>0.0</td>\n",
       "      <td>0.0</td>\n",
       "      <td>0.0</td>\n",
       "      <td>0.0</td>\n",
       "      <td>0.0</td>\n",
       "      <td>0.0</td>\n",
       "      <td>0.0</td>\n",
       "      <td>0.0</td>\n",
       "    </tr>\n",
       "    <tr>\n",
       "      <th>max</th>\n",
       "      <td>0.0</td>\n",
       "      <td>0.0</td>\n",
       "      <td>0.0</td>\n",
       "      <td>0.0</td>\n",
       "      <td>0.0</td>\n",
       "      <td>0.0</td>\n",
       "      <td>0.0</td>\n",
       "      <td>0.0</td>\n",
       "      <td>0.0</td>\n",
       "      <td>0.0</td>\n",
       "      <td>...</td>\n",
       "      <td>84.000000</td>\n",
       "      <td>0.0</td>\n",
       "      <td>0.0</td>\n",
       "      <td>0.0</td>\n",
       "      <td>0.0</td>\n",
       "      <td>0.0</td>\n",
       "      <td>0.0</td>\n",
       "      <td>0.0</td>\n",
       "      <td>0.0</td>\n",
       "      <td>0.0</td>\n",
       "    </tr>\n",
       "  </tbody>\n",
       "</table>\n",
       "<p>8 rows × 784 columns</p>\n",
       "</div>"
      ],
      "text/plain": [
       "       pixel0  pixel1  pixel2  pixel3  pixel4  pixel5  pixel6  pixel7  pixel8  \\\n",
       "count  1800.0  1800.0  1800.0  1800.0  1800.0  1800.0  1800.0  1800.0  1800.0   \n",
       "mean      0.0     0.0     0.0     0.0     0.0     0.0     0.0     0.0     0.0   \n",
       "std       0.0     0.0     0.0     0.0     0.0     0.0     0.0     0.0     0.0   \n",
       "min       0.0     0.0     0.0     0.0     0.0     0.0     0.0     0.0     0.0   \n",
       "25%       0.0     0.0     0.0     0.0     0.0     0.0     0.0     0.0     0.0   \n",
       "50%       0.0     0.0     0.0     0.0     0.0     0.0     0.0     0.0     0.0   \n",
       "75%       0.0     0.0     0.0     0.0     0.0     0.0     0.0     0.0     0.0   \n",
       "max       0.0     0.0     0.0     0.0     0.0     0.0     0.0     0.0     0.0   \n",
       "\n",
       "       pixel9  ...     pixel774  pixel775  pixel776  pixel777  pixel778  \\\n",
       "count  1800.0  ...  1800.000000    1800.0    1800.0    1800.0    1800.0   \n",
       "mean      0.0  ...     0.057778       0.0       0.0       0.0       0.0   \n",
       "std       0.0  ...     2.034990       0.0       0.0       0.0       0.0   \n",
       "min       0.0  ...     0.000000       0.0       0.0       0.0       0.0   \n",
       "25%       0.0  ...     0.000000       0.0       0.0       0.0       0.0   \n",
       "50%       0.0  ...     0.000000       0.0       0.0       0.0       0.0   \n",
       "75%       0.0  ...     0.000000       0.0       0.0       0.0       0.0   \n",
       "max       0.0  ...    84.000000       0.0       0.0       0.0       0.0   \n",
       "\n",
       "       pixel779  pixel780  pixel781  pixel782  pixel783  \n",
       "count    1800.0    1800.0    1800.0    1800.0    1800.0  \n",
       "mean        0.0       0.0       0.0       0.0       0.0  \n",
       "std         0.0       0.0       0.0       0.0       0.0  \n",
       "min         0.0       0.0       0.0       0.0       0.0  \n",
       "25%         0.0       0.0       0.0       0.0       0.0  \n",
       "50%         0.0       0.0       0.0       0.0       0.0  \n",
       "75%         0.0       0.0       0.0       0.0       0.0  \n",
       "max         0.0       0.0       0.0       0.0       0.0  \n",
       "\n",
       "[8 rows x 784 columns]"
      ]
     },
     "execution_count": 7,
     "metadata": {},
     "output_type": "execute_result"
    }
   ],
   "source": [
    "data.describe()"
   ]
  },
  {
   "cell_type": "markdown",
   "id": "67cd0401",
   "metadata": {},
   "source": [
    "You can see that the max value of the max value of pixel774 is 84, whereas most features lie in much lower ranges (look at description of pixel 0, pixel 1 etc. above).\n",
    "\n",
    "Thus, it seems like a good idea to rescale the features."
   ]
  },
  {
   "cell_type": "code",
   "execution_count": 8,
   "id": "fa12a4b4",
   "metadata": {},
   "outputs": [
    {
     "data": {
      "text/plain": [
       "<AxesSubplot:>"
      ]
     },
     "execution_count": 8,
     "metadata": {},
     "output_type": "execute_result"
    },
    {
     "data": {
      "image/png": "[encoded data removed]",
      "text/plain": [
       "<Figure size 432x288 with 1 Axes>"
      ]
     },
     "metadata": {
      "needs_background": "light"
     },
     "output_type": "display_data"
    }
   ],
   "source": [
    "target.value_counts().plot(kind='barh')"
   ]
  },
  {
   "cell_type": "markdown",
   "id": "7f2edda4",
   "metadata": {},
   "source": [
    "The dataset contains equal observations for all the classes of digits."
   ]
  },
  {
   "cell_type": "markdown",
   "id": "ad8adfd6",
   "metadata": {},
   "source": [
    "#### Split into a training and testing set"
   ]
  },
  {
   "cell_type": "code",
   "execution_count": 9,
   "id": "81ce17b8",
   "metadata": {},
   "outputs": [],
   "source": [
    "X_train, X_test, y_train, y_test = train_test_split(data, target, test_size=0.25, random_state=42)"
   ]
  },
  {
   "cell_type": "code",
   "execution_count": 10,
   "id": "d3ae1a80",
   "metadata": {},
   "outputs": [],
   "source": [
    "# Standardizing the training and testing data  \n",
    "from sklearn.preprocessing import StandardScaler\n",
    "scaler = StandardScaler().fit(X_train)\n",
    "X_train_scaled = scaler.transform(X_train)\n",
    "X_test_scaled = scaler.transform(X_test)"
   ]
  },
  {
   "cell_type": "markdown",
   "id": "2440b933",
   "metadata": {},
   "source": [
    "### SVM Classifier"
   ]
  },
  {
   "cell_type": "markdown",
   "id": "2a28ab55",
   "metadata": {},
   "source": [
    "Support vector machines are known to solve linear and non-linear problems. The idea of SVM is to create a hyperplane that divides the data into different classes. Read the <a href=https://scikit-learn.org/stable/modules/generated/sklearn.svm.SVC.html#sklearn.svm.SVC>documentation</a> for more information. Details of the scikit learn SVM Classifier can be found <a href=https://scikit-learn.org/stable/modules/generated/sklearn.svm.SVC.html#sklearn.svm.SVC>here</a>"
   ]
  },
  {
   "cell_type": "markdown",
   "id": "e6c19331",
   "metadata": {},
   "source": [
    "#### Task 1:\n",
    "Fit SVC with a **linear kernel** on the traning data and check the accuracy on the testing data"
   ]
  },
  {
   "cell_type": "code",
   "execution_count": 11,
   "id": "42c346a4",
   "metadata": {},
   "outputs": [
    {
     "name": "stdout",
     "output_type": "stream",
     "text": [
      "Training set accuracy score:  1.0\n",
      "Testing set accuracy score:  0.9044\n"
     ]
    }
   ],
   "source": [
    "svc = SVC(kernel='linear')\n",
    "svc.fit(X_train, y_train)\n",
    "print(\"Training set accuracy score: \", round(accuracy_score(y_train, svc.predict(X_train)), 4))\n",
    "print(\"Testing set accuracy score: \", round(accuracy_score(y_test , svc.predict(X_test)), 4))"
   ]
  },
  {
   "cell_type": "markdown",
   "id": "8a16f176",
   "metadata": {},
   "source": [
    "#### Task 2:\n",
    "\n",
    "Fit SVC with a **radial basis function kernel** on the traning data and check the accuracy on the testing data"
   ]
  },
  {
   "cell_type": "code",
   "execution_count": 12,
   "id": "fb546390",
   "metadata": {},
   "outputs": [
    {
     "name": "stdout",
     "output_type": "stream",
     "text": [
      "Training set accuracy score:  0.9874\n",
      "Testing set accuracy score:  0.9378\n"
     ]
    }
   ],
   "source": [
    "svc = SVC(kernel='rbf')\n",
    "svc.fit(X_train, y_train)\n",
    "print(\"Training set accuracy score: \", round(accuracy_score(y_train, svc.predict(X_train)), 4))\n",
    "print(\"Testing set accuracy score: \", round(accuracy_score(y_test , svc.predict(X_test)), 4))"
   ]
  },
  {
   "cell_type": "markdown",
   "id": "8dc9f93d",
   "metadata": {},
   "source": [
    "#### Task 3:\n",
    "\n",
    "Fit SVC with a **polynomial kernel** on the traning data and check the accuracy on the testing data. Also check if degree of the polynomial improves/aggravates the predictions"
   ]
  },
  {
   "cell_type": "code",
   "execution_count": 13,
   "id": "fa258afc",
   "metadata": {},
   "outputs": [
    {
     "name": "stdout",
     "output_type": "stream",
     "text": [
      "Training set accuracy score:  0.9822\n",
      "Testing set accuracy score:  0.9244\n"
     ]
    }
   ],
   "source": [
    "svc = SVC(kernel='poly', degree = 2) \n",
    "svc.fit(X_train, y_train)\n",
    "print(\"Training set accuracy score: \", round(accuracy_score(y_train, svc.predict(X_train)), 4))\n",
    "print(\"Testing set accuracy score: \", round(accuracy_score(y_test , svc.predict(X_test)), 4))"
   ]
  },
  {
   "cell_type": "code",
   "execution_count": 14,
   "id": "abe947a7",
   "metadata": {},
   "outputs": [
    {
     "name": "stdout",
     "output_type": "stream",
     "text": [
      "Training set accuracy score:  0.9763\n",
      "Testing set accuracy score:  0.8844\n"
     ]
    }
   ],
   "source": [
    "svc = SVC(kernel='poly', degree = 3) # default value of parameter degree = 3\n",
    "svc.fit(X_train, y_train)\n",
    "print(\"Training set accuracy score: \", round(accuracy_score(y_train, svc.predict(X_train)), 4))\n",
    "print(\"Testing set accuracy score: \", round(accuracy_score(y_test , svc.predict(X_test)), 4))"
   ]
  },
  {
   "cell_type": "code",
   "execution_count": 15,
   "id": "f568932e",
   "metadata": {},
   "outputs": [
    {
     "name": "stdout",
     "output_type": "stream",
     "text": [
      "Training set accuracy score:  0.9459\n",
      "Testing set accuracy score:  0.8489\n"
     ]
    }
   ],
   "source": [
    "svc = SVC(kernel='poly', degree = 4)\n",
    "svc.fit(X_train, y_train)\n",
    "print(\"Training set accuracy score: \", round(accuracy_score(y_train, svc.predict(X_train)), 4))\n",
    "print(\"Testing set accuracy score: \", round(accuracy_score(y_test , svc.predict(X_test)), 4))"
   ]
  },
  {
   "cell_type": "code",
   "execution_count": 16,
   "id": "2d105166",
   "metadata": {},
   "outputs": [
    {
     "name": "stdout",
     "output_type": "stream",
     "text": [
      "Training set accuracy score:  0.9067\n",
      "Testing set accuracy score:  0.7756\n"
     ]
    }
   ],
   "source": [
    "svc = SVC(kernel='poly', degree = 5)\n",
    "svc.fit(X_train, y_train)\n",
    "print(\"Training set accuracy score: \", round(accuracy_score(y_train, svc.predict(X_train)), 4))\n",
    "print(\"Testing set accuracy score: \", round(accuracy_score(y_test , svc.predict(X_test)), 4))"
   ]
  },
  {
   "cell_type": "code",
   "execution_count": 17,
   "id": "c81bb4e9",
   "metadata": {},
   "outputs": [
    {
     "name": "stdout",
     "output_type": "stream",
     "text": [
      "Training set accuracy score:  0.8622\n",
      "Testing set accuracy score:  0.6889\n"
     ]
    }
   ],
   "source": [
    "svc = SVC(kernel='poly', degree = 6)\n",
    "svc.fit(X_train, y_train)\n",
    "print(\"Training set accuracy score: \", round(accuracy_score(y_train, svc.predict(X_train)), 4))\n",
    "print(\"Testing set accuracy score: \", round(accuracy_score(y_test , svc.predict(X_test)), 4))"
   ]
  },
  {
   "cell_type": "markdown",
   "id": "34aafcd4",
   "metadata": {},
   "source": [
    "The difference in the accuracy scores of training and testing dataset is the least for SVM classifier polynomial kernel with a degree of 2."
   ]
  },
  {
   "cell_type": "markdown",
   "id": "eaa26c47",
   "metadata": {},
   "source": [
    "#### Task 4: \n",
    "\n",
    "Fit SVC with a **sigmoid kernel** on the traning data and check the accuracy on the testing data"
   ]
  },
  {
   "cell_type": "code",
   "execution_count": 18,
   "id": "43f7b5bf",
   "metadata": {},
   "outputs": [
    {
     "name": "stdout",
     "output_type": "stream",
     "text": [
      "Training set accuracy score:  0.8726\n",
      "Testing set accuracy score:  0.8644\n"
     ]
    }
   ],
   "source": [
    "svc = SVC(kernel='sigmoid')\n",
    "svc.fit(X_train, y_train)\n",
    "print(\"Training set accuracy score: \", round(accuracy_score(y_train, svc.predict(X_train)), 4))\n",
    "print(\"Testing set accuracy score: \", round(accuracy_score(y_test , svc.predict(X_test)), 4))"
   ]
  },
  {
   "cell_type": "markdown",
   "id": "7832b5f6",
   "metadata": {},
   "source": [
    "#### Task 5:\n",
    "\n",
    "Compare the performance of the classifiers developed above with different kernels and state which kernel performs better? Why?"
   ]
  },
  {
   "cell_type": "markdown",
   "id": "4dead5e7",
   "metadata": {},
   "source": [
    "SVM with the radial kernel seems to be the best classifier as the accuracy score is highest for the testing dataset and the difference in accuracy scores between the training and testing dataset is less. \n",
    "Interestingly, we observe that the generalisation accuracy (accuracy on test data) goes down as we increase the degree of the polynomial in the SVM kernel. This is because of overfitting. The dataset is too limited to learn a highly complex model."
   ]
  }
 ],
 "metadata": {
  "kernelspec": {
   "display_name": "Python 3 (ipykernel)",
   "language": "python",
   "name": "python3"
  },
  "language_info": {
   "codemirror_mode": {
    "name": "ipython",
    "version": 3
   },
   "file_extension": ".py",
   "mimetype": "text/x-python",
   "name": "python",
   "nbconvert_exporter": "python",
   "pygments_lexer": "ipython3",
   "version": "3.11.5"
  }
 },
 "nbformat": 4,
 "nbformat_minor": 5
}
