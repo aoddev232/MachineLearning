{
 "cells": [
  {
   "cell_type": "markdown",
   "id": "8dfff157",
   "metadata": {},
   "source": [
    "## Week 5 - Tutorial Solutions"
   ]
  },
  {
   "cell_type": "markdown",
   "id": "4fefb865",
   "metadata": {},
   "source": [
    "#### Import Packages"
   ]
  },
  {
   "cell_type": "code",
   "execution_count": 1,
   "id": "336c22a7",
   "metadata": {},
   "outputs": [],
   "source": [
    "import pandas as pd \n",
    "import numpy as np \n",
    "\n",
    "from sklearn.svm import SVC\n",
    "import matplotlib.pyplot as plt\n",
    "\n",
    "from sklearn.tree import DecisionTreeClassifier\n",
    "from sklearn.model_selection import train_test_split, KFold, StratifiedKFold, RepeatedStratifiedKFold, cross_validate\n",
    "from sklearn.metrics import ConfusionMatrixDisplay, balanced_accuracy_score, accuracy_score, precision_score, recall_score"
   ]
  },
  {
   "cell_type": "code",
   "execution_count": 2,
   "id": "2dd0394a",
   "metadata": {},
   "outputs": [
    {
     "data": {
      "text/html": [
       "<div>\n",
       "<style scoped>\n",
       "    .dataframe tbody tr th:only-of-type {\n",
       "        vertical-align: middle;\n",
       "    }\n",
       "\n",
       "    .dataframe tbody tr th {\n",
       "        vertical-align: top;\n",
       "    }\n",
       "\n",
       "    .dataframe thead th {\n",
       "        text-align: right;\n",
       "    }\n",
       "</style>\n",
       "<table border=\"1\" class=\"dataframe\">\n",
       "  <thead>\n",
       "    <tr style=\"text-align: right;\">\n",
       "      <th></th>\n",
       "      <th>Study</th>\n",
       "      <th>Run</th>\n",
       "      <th>vconst_corr</th>\n",
       "      <th>vconst_2</th>\n",
       "      <th>vconst_3</th>\n",
       "      <th>vconst_4</th>\n",
       "      <th>vconst_5</th>\n",
       "      <th>vconst_7</th>\n",
       "      <th>ah_corr</th>\n",
       "      <th>ah_bolus</th>\n",
       "      <th>...</th>\n",
       "      <th>efficiency_factor</th>\n",
       "      <th>tidal_mix_max</th>\n",
       "      <th>vertical_decay_scale</th>\n",
       "      <th>convect_corr</th>\n",
       "      <th>bckgrnd_vdc1</th>\n",
       "      <th>bckgrnd_vdc_ban</th>\n",
       "      <th>bckgrnd_vdc_eq</th>\n",
       "      <th>bckgrnd_vdc_psim</th>\n",
       "      <th>Prandtl</th>\n",
       "      <th>outcome</th>\n",
       "    </tr>\n",
       "  </thead>\n",
       "  <tbody>\n",
       "    <tr>\n",
       "      <th>0</th>\n",
       "      <td>1</td>\n",
       "      <td>1</td>\n",
       "      <td>0.859036</td>\n",
       "      <td>0.927825</td>\n",
       "      <td>0.252866</td>\n",
       "      <td>0.298838</td>\n",
       "      <td>0.170521</td>\n",
       "      <td>0.735936</td>\n",
       "      <td>0.428325</td>\n",
       "      <td>0.567947</td>\n",
       "      <td>...</td>\n",
       "      <td>0.245675</td>\n",
       "      <td>0.104226</td>\n",
       "      <td>0.869091</td>\n",
       "      <td>0.997518</td>\n",
       "      <td>0.448620</td>\n",
       "      <td>0.307522</td>\n",
       "      <td>0.858310</td>\n",
       "      <td>0.796997</td>\n",
       "      <td>0.869893</td>\n",
       "      <td>0</td>\n",
       "    </tr>\n",
       "    <tr>\n",
       "      <th>1</th>\n",
       "      <td>1</td>\n",
       "      <td>2</td>\n",
       "      <td>0.606041</td>\n",
       "      <td>0.457728</td>\n",
       "      <td>0.359448</td>\n",
       "      <td>0.306957</td>\n",
       "      <td>0.843331</td>\n",
       "      <td>0.934851</td>\n",
       "      <td>0.444572</td>\n",
       "      <td>0.828015</td>\n",
       "      <td>...</td>\n",
       "      <td>0.616870</td>\n",
       "      <td>0.975786</td>\n",
       "      <td>0.914344</td>\n",
       "      <td>0.845247</td>\n",
       "      <td>0.864152</td>\n",
       "      <td>0.346713</td>\n",
       "      <td>0.356573</td>\n",
       "      <td>0.438447</td>\n",
       "      <td>0.512256</td>\n",
       "      <td>1</td>\n",
       "    </tr>\n",
       "    <tr>\n",
       "      <th>2</th>\n",
       "      <td>1</td>\n",
       "      <td>3</td>\n",
       "      <td>0.997600</td>\n",
       "      <td>0.373238</td>\n",
       "      <td>0.517399</td>\n",
       "      <td>0.504993</td>\n",
       "      <td>0.618903</td>\n",
       "      <td>0.605571</td>\n",
       "      <td>0.746225</td>\n",
       "      <td>0.195928</td>\n",
       "      <td>...</td>\n",
       "      <td>0.679355</td>\n",
       "      <td>0.803413</td>\n",
       "      <td>0.643995</td>\n",
       "      <td>0.718441</td>\n",
       "      <td>0.924775</td>\n",
       "      <td>0.315371</td>\n",
       "      <td>0.250642</td>\n",
       "      <td>0.285636</td>\n",
       "      <td>0.365858</td>\n",
       "      <td>1</td>\n",
       "    </tr>\n",
       "    <tr>\n",
       "      <th>3</th>\n",
       "      <td>1</td>\n",
       "      <td>4</td>\n",
       "      <td>0.783408</td>\n",
       "      <td>0.104055</td>\n",
       "      <td>0.197533</td>\n",
       "      <td>0.421837</td>\n",
       "      <td>0.742056</td>\n",
       "      <td>0.490828</td>\n",
       "      <td>0.005525</td>\n",
       "      <td>0.392123</td>\n",
       "      <td>...</td>\n",
       "      <td>0.471463</td>\n",
       "      <td>0.597879</td>\n",
       "      <td>0.761659</td>\n",
       "      <td>0.362751</td>\n",
       "      <td>0.912819</td>\n",
       "      <td>0.977971</td>\n",
       "      <td>0.845921</td>\n",
       "      <td>0.699431</td>\n",
       "      <td>0.475987</td>\n",
       "      <td>1</td>\n",
       "    </tr>\n",
       "    <tr>\n",
       "      <th>4</th>\n",
       "      <td>1</td>\n",
       "      <td>5</td>\n",
       "      <td>0.406250</td>\n",
       "      <td>0.513199</td>\n",
       "      <td>0.061812</td>\n",
       "      <td>0.635837</td>\n",
       "      <td>0.844798</td>\n",
       "      <td>0.441502</td>\n",
       "      <td>0.191926</td>\n",
       "      <td>0.487546</td>\n",
       "      <td>...</td>\n",
       "      <td>0.551543</td>\n",
       "      <td>0.743877</td>\n",
       "      <td>0.312349</td>\n",
       "      <td>0.650223</td>\n",
       "      <td>0.522261</td>\n",
       "      <td>0.043545</td>\n",
       "      <td>0.376660</td>\n",
       "      <td>0.280098</td>\n",
       "      <td>0.132283</td>\n",
       "      <td>1</td>\n",
       "    </tr>\n",
       "  </tbody>\n",
       "</table>\n",
       "<p>5 rows × 21 columns</p>\n",
       "</div>"
      ],
      "text/plain": [
       "   Study  Run  vconst_corr  vconst_2  vconst_3  vconst_4  vconst_5  vconst_7  \\\n",
       "0      1    1     0.859036  0.927825  0.252866  0.298838  0.170521  0.735936   \n",
       "1      1    2     0.606041  0.457728  0.359448  0.306957  0.843331  0.934851   \n",
       "2      1    3     0.997600  0.373238  0.517399  0.504993  0.618903  0.605571   \n",
       "3      1    4     0.783408  0.104055  0.197533  0.421837  0.742056  0.490828   \n",
       "4      1    5     0.406250  0.513199  0.061812  0.635837  0.844798  0.441502   \n",
       "\n",
       "    ah_corr  ah_bolus  ...  efficiency_factor  tidal_mix_max  \\\n",
       "0  0.428325  0.567947  ...           0.245675       0.104226   \n",
       "1  0.444572  0.828015  ...           0.616870       0.975786   \n",
       "2  0.746225  0.195928  ...           0.679355       0.803413   \n",
       "3  0.005525  0.392123  ...           0.471463       0.597879   \n",
       "4  0.191926  0.487546  ...           0.551543       0.743877   \n",
       "\n",
       "   vertical_decay_scale  convect_corr  bckgrnd_vdc1  bckgrnd_vdc_ban  \\\n",
       "0              0.869091      0.997518      0.448620         0.307522   \n",
       "1              0.914344      0.845247      0.864152         0.346713   \n",
       "2              0.643995      0.718441      0.924775         0.315371   \n",
       "3              0.761659      0.362751      0.912819         0.977971   \n",
       "4              0.312349      0.650223      0.522261         0.043545   \n",
       "\n",
       "   bckgrnd_vdc_eq  bckgrnd_vdc_psim   Prandtl  outcome  \n",
       "0        0.858310          0.796997  0.869893        0  \n",
       "1        0.356573          0.438447  0.512256        1  \n",
       "2        0.250642          0.285636  0.365858        1  \n",
       "3        0.845921          0.699431  0.475987        1  \n",
       "4        0.376660          0.280098  0.132283        1  \n",
       "\n",
       "[5 rows x 21 columns]"
      ]
     },
     "execution_count": 2,
     "metadata": {},
     "output_type": "execute_result"
    }
   ],
   "source": [
    "# Since the dataset contains multiple spaces between the columns, use \\s+ for sep parameter\n",
    "df = pd.read_csv('climate_simulation.dat', sep='\\s+')\n",
    "df.head()"
   ]
  },
  {
   "cell_type": "code",
   "execution_count": 3,
   "id": "5411787d",
   "metadata": {},
   "outputs": [],
   "source": [
    "# Converting the outcome variable to report failed - this is done to evaluate the model's performance later \n",
    "# using multiple scores in cross_validation as currently there's no way to change pos_label when we perform cross validation\n",
    "df['outcome'] = 1- df['outcome']\n",
    "df.rename(columns={'outcome': 'failed'}, inplace=True)"
   ]
  },
  {
   "cell_type": "code",
   "execution_count": 4,
   "id": "ccc07d25",
   "metadata": {},
   "outputs": [
    {
     "data": {
      "text/plain": [
       "1    180\n",
       "2    180\n",
       "3    180\n",
       "Name: Study, dtype: int64"
      ]
     },
     "execution_count": 4,
     "metadata": {},
     "output_type": "execute_result"
    }
   ],
   "source": [
    "df['Study'].value_counts()"
   ]
  },
  {
   "cell_type": "code",
   "execution_count": 5,
   "id": "523b8046",
   "metadata": {},
   "outputs": [],
   "source": [
    "X = df.drop(columns=['Study', 'Run', 'failed'])\n",
    "y = df[['failed']]"
   ]
  },
  {
   "cell_type": "code",
   "execution_count": 6,
   "id": "9654ba7e",
   "metadata": {},
   "outputs": [
    {
     "data": {
      "image/png": "[encoded data removed]",
      "text/plain": [
       "<Figure size 432x288 with 1 Axes>"
      ]
     },
     "metadata": {
      "needs_background": "light"
     },
     "output_type": "display_data"
    }
   ],
   "source": [
    "y.value_counts(normalize=True).plot.barh()\n",
    "plt.xlabel(\"Number of samples\")\n",
    "plt.title(\"Number of samples per classes present\\n in the target\");"
   ]
  },
  {
   "cell_type": "markdown",
   "id": "f5e37dc8",
   "metadata": {},
   "source": [
    "Now, `1` represents that the simulation failed and `0` represents that simulation was successful. "
   ]
  },
  {
   "cell_type": "code",
   "execution_count": 7,
   "id": "45bc7cb6",
   "metadata": {},
   "outputs": [],
   "source": [
    "classifier = DecisionTreeClassifier(random_state=5)"
   ]
  },
  {
   "cell_type": "markdown",
   "id": "4d45162b",
   "metadata": {},
   "source": [
    "### 1a: Shuffling for KFold "
   ]
  },
  {
   "cell_type": "code",
   "execution_count": 8,
   "id": "84a65ae4",
   "metadata": {},
   "outputs": [
    {
     "data": {
      "text/plain": [
       "array([0.74      , 0.57291667, 0.835     , 0.72727273, 0.58979592,\n",
       "       0.49038462, 0.78979592, 1.        , 0.47826087, 0.96226415])"
      ]
     },
     "execution_count": 8,
     "metadata": {},
     "output_type": "execute_result"
    }
   ],
   "source": [
    "cv = KFold(n_splits=10, shuffle=True, random_state=42)\n",
    "results = cross_validate(classifier, X, y, cv=cv, scoring='balanced_accuracy')\n",
    "test_score = results[\"test_score\"]\n",
    "test_score"
   ]
  },
  {
   "cell_type": "code",
   "execution_count": 9,
   "id": "408f71ee",
   "metadata": {},
   "outputs": [
    {
     "name": "stdout",
     "output_type": "stream",
     "text": [
      "The average balanced accuracy is 0.719 +/- 0.175\n"
     ]
    }
   ],
   "source": [
    "print(f\"The average balanced accuracy is \" f\"{test_score.mean():.3f} +/- {test_score.std():.3f}\")"
   ]
  },
  {
   "cell_type": "markdown",
   "id": "209e4a50",
   "metadata": {},
   "source": [
    "We note that `KFold` with shuffling at a `random_state`=42 has a better balanced accuracy score. "
   ]
  },
  {
   "cell_type": "markdown",
   "id": "e08cd3ad",
   "metadata": {},
   "source": [
    "### 1b. StratifiedKFold "
   ]
  },
  {
   "cell_type": "markdown",
   "id": "6587f760",
   "metadata": {},
   "source": [
    "Without shuffling "
   ]
  },
  {
   "cell_type": "code",
   "execution_count": 10,
   "id": "b277fe70",
   "metadata": {},
   "outputs": [
    {
     "data": {
      "text/plain": [
       "array([0.76938776, 0.76938776, 0.72857143, 0.58979592, 0.68979592,\n",
       "       0.76938776, 0.855     , 0.73      , 0.72      , 0.845     ])"
      ]
     },
     "execution_count": 10,
     "metadata": {},
     "output_type": "execute_result"
    }
   ],
   "source": [
    "cv = StratifiedKFold(n_splits=10, shuffle=False, random_state=None)\n",
    "results = cross_validate(classifier, X, y, cv=cv, scoring='balanced_accuracy')\n",
    "test_score = results[\"test_score\"]\n",
    "test_score"
   ]
  },
  {
   "cell_type": "code",
   "execution_count": 11,
   "id": "c49b09c8",
   "metadata": {},
   "outputs": [
    {
     "name": "stdout",
     "output_type": "stream",
     "text": [
      "The average balanced accuracy is 0.747 +/- 0.072\n"
     ]
    }
   ],
   "source": [
    "print(f\"The average balanced accuracy is \" f\"{test_score.mean():.3f} +/- {test_score.std():.3f}\")"
   ]
  },
  {
   "cell_type": "markdown",
   "id": "eb63efb5",
   "metadata": {},
   "source": [
    "With shuffling"
   ]
  },
  {
   "cell_type": "code",
   "execution_count": 12,
   "id": "136ebaa6",
   "metadata": {},
   "outputs": [
    {
     "data": {
      "text/plain": [
       "array([0.66938776, 0.55918367, 0.87959184, 0.74897959, 0.76938776,\n",
       "       0.56938776, 0.845     , 0.99      , 0.625     , 0.575     ])"
      ]
     },
     "execution_count": 12,
     "metadata": {},
     "output_type": "execute_result"
    }
   ],
   "source": [
    "cv = StratifiedKFold(n_splits=10, shuffle=True, random_state=50)\n",
    "results = cross_validate(classifier, X, y, cv=cv, scoring='balanced_accuracy')\n",
    "test_score = results[\"test_score\"]\n",
    "test_score"
   ]
  },
  {
   "cell_type": "code",
   "execution_count": 13,
   "id": "fe05e69c",
   "metadata": {},
   "outputs": [
    {
     "name": "stdout",
     "output_type": "stream",
     "text": [
      "The average balanced accuracy is 0.723 +/- 0.141\n"
     ]
    }
   ],
   "source": [
    "print(f\"The average balanced accuracy is \" f\"{test_score.mean():.3f} +/- {test_score.std():.3f}\")"
   ]
  },
  {
   "cell_type": "markdown",
   "id": "533a5442",
   "metadata": {},
   "source": [
    "We note that `StratifiedKFold` performs better without shuffling for this dataset and while shuffling with a `random_state` of 50. "
   ]
  },
  {
   "cell_type": "markdown",
   "id": "c9893f10",
   "metadata": {},
   "source": [
    "### 1c. RepeatedStratifed KFold"
   ]
  },
  {
   "cell_type": "code",
   "execution_count": 14,
   "id": "367c6d7c",
   "metadata": {},
   "outputs": [
    {
     "data": {
      "text/plain": [
       "array([0.77959184, 0.8       , 0.67959184, 0.55918367, 0.76938776,\n",
       "       0.78979592, 0.75      , 0.835     , 0.73      , 0.49      ,\n",
       "       0.88979592, 0.87959184, 0.58979592, 0.7       , 0.63877551,\n",
       "       0.78979592, 0.865     , 0.7       , 0.595     , 0.585     ,\n",
       "       0.88979592, 0.66938776, 0.67959184, 0.57959184, 0.8       ,\n",
       "       0.58979592, 0.605     , 0.615     , 0.74      , 0.605     ,\n",
       "       0.57959184, 0.77959184, 0.67959184, 0.85918367, 0.58979592,\n",
       "       0.88979592, 0.68      , 0.875     , 0.875     , 0.855     ,\n",
       "       0.87959184, 0.88979592, 0.7       , 0.65918367, 0.65918367,\n",
       "       0.67959184, 0.7       , 0.5       , 0.74      , 0.71      ])"
      ]
     },
     "execution_count": 14,
     "metadata": {},
     "output_type": "execute_result"
    }
   ],
   "source": [
    "cv = RepeatedStratifiedKFold(n_splits=10, n_repeats=5)\n",
    "results = cross_validate(classifier, X, y, cv=cv, scoring='balanced_accuracy')\n",
    "test_score = results[\"test_score\"]\n",
    "test_score"
   ]
  },
  {
   "cell_type": "code",
   "execution_count": 15,
   "id": "0c89922e",
   "metadata": {},
   "outputs": [
    {
     "name": "stdout",
     "output_type": "stream",
     "text": [
      "The average balanced accuracy is 0.719 +/- 0.113\n"
     ]
    }
   ],
   "source": [
    "print(f\"The average balanced accuracy is \" f\"{test_score.mean():.3f} +/- {test_score.std():.3f}\")"
   ]
  },
  {
   "cell_type": "markdown",
   "id": "c04db107",
   "metadata": {},
   "source": [
    "### 2. SVM"
   ]
  },
  {
   "cell_type": "code",
   "execution_count": 16,
   "id": "56f9c844",
   "metadata": {},
   "outputs": [],
   "source": [
    "X_train, X_test, y_train, y_test = train_test_split(X, y, random_state=42, test_size=0.25)"
   ]
  },
  {
   "cell_type": "code",
   "execution_count": 17,
   "id": "b02b7bc9",
   "metadata": {},
   "outputs": [
    {
     "data": {
      "text/plain": [
       "SVC(random_state=5)"
      ]
     },
     "execution_count": 17,
     "metadata": {},
     "output_type": "execute_result"
    }
   ],
   "source": [
    "classifier = SVC(random_state=5)\n",
    "classifier.fit(X_train, np.ravel(y_train))"
   ]
  },
  {
   "cell_type": "code",
   "execution_count": 18,
   "id": "30976d41",
   "metadata": {},
   "outputs": [
    {
     "data": {
      "text/plain": [
       "array([0, 0, 0, 0, 0], dtype=int64)"
      ]
     },
     "execution_count": 18,
     "metadata": {},
     "output_type": "execute_result"
    }
   ],
   "source": [
    "y_predicted = classifier.predict(X_test)\n",
    "y_predicted[:5]"
   ]
  },
  {
   "cell_type": "code",
   "execution_count": 19,
   "id": "5e2362e0",
   "metadata": {},
   "outputs": [
    {
     "data": {
      "image/png": "[encoded data removed]",
      "text/plain": [
       "<Figure size 432x288 with 2 Axes>"
      ]
     },
     "metadata": {
      "needs_background": "light"
     },
     "output_type": "display_data"
    }
   ],
   "source": [
    "ConfusionMatrixDisplay.from_estimator(classifier, X_test, y_test);"
   ]
  },
  {
   "cell_type": "code",
   "execution_count": 20,
   "id": "6e9b0d57",
   "metadata": {
    "scrolled": true
   },
   "outputs": [
    {
     "name": "stdout",
     "output_type": "stream",
     "text": [
      "Accuracy: 0.926\n",
      "Precision score: 1.000\n",
      "Recall score: 0.091\n"
     ]
    }
   ],
   "source": [
    "accuracy = accuracy_score(y_test, y_predicted)\n",
    "precision = precision_score(y_test, y_predicted, pos_label=1)\n",
    "recall = recall_score(y_test, y_predicted, pos_label=1)\n",
    "\n",
    "print(f\"Accuracy: {accuracy:.3f}\")\n",
    "print(f\"Precision score: {precision:.3f}\")\n",
    "print(f\"Recall score: {recall:.3f}\")"
   ]
  },
  {
   "cell_type": "code",
   "execution_count": 21,
   "id": "c577bf87",
   "metadata": {},
   "outputs": [
    {
     "name": "stdout",
     "output_type": "stream",
     "text": [
      "Accuracy of the dummy classifier: 0.919\n"
     ]
    }
   ],
   "source": [
    "from sklearn.dummy import DummyClassifier\n",
    "\n",
    "dummy_classifier = DummyClassifier(strategy=\"most_frequent\")\n",
    "dummy_classifier.fit(X_train, y_train)\n",
    "print(f\"Accuracy of the dummy classifier: \" f\"{dummy_classifier.score(X_test, y_test):.3f}\")"
   ]
  },
  {
   "cell_type": "code",
   "execution_count": 22,
   "id": "699dbdd8",
   "metadata": {},
   "outputs": [
    {
     "data": {
      "image/png": "[encoded data removed]",
      "text/plain": [
       "<Figure size 432x288 with 1 Axes>"
      ]
     },
     "metadata": {
      "needs_background": "light"
     },
     "output_type": "display_data"
    }
   ],
   "source": [
    "from sklearn.metrics import RocCurveDisplay\n",
    "\n",
    "disp = RocCurveDisplay.from_estimator(classifier, X_test, y_test, pos_label=1)\n",
    "disp = RocCurveDisplay.from_estimator(dummy_classifier, X_test, y_test, pos_label=1, ax = disp.ax_)\n",
    "disp.ax_.set_title(\"ROC AUC curve\");"
   ]
  },
  {
   "cell_type": "code",
   "execution_count": 23,
   "id": "29dbb57d",
   "metadata": {},
   "outputs": [
    {
     "name": "stdout",
     "output_type": "stream",
     "text": [
      "Recall:  [0.   0.2  0.2  0.4  0.   0.   0.   0.   0.25 0.5  0.2  0.2  0.2  0.6\n",
      " 0.2  0.   0.25 0.   0.   0.25 0.   0.2  0.   0.2  0.   0.2  0.5  0.25\n",
      " 0.   0.   0.   0.2  0.2  0.   0.2  0.4  0.   0.25 0.25 0.25 0.2  0.2\n",
      " 0.   0.   0.6  0.2  0.   0.25 0.25 0.  ]\n",
      "Balanced Accuracy:  [0.5        0.6        0.6        0.7        0.5        0.48979592\n",
      " 0.5        0.5        0.625      0.75       0.6        0.6\n",
      " 0.6        0.8        0.6        0.5        0.625      0.5\n",
      " 0.5        0.615      0.5        0.6        0.48979592 0.6\n",
      " 0.5        0.6        0.75       0.625      0.5        0.5\n",
      " 0.5        0.6        0.6        0.5        0.6        0.7\n",
      " 0.5        0.625      0.625      0.625      0.6        0.6\n",
      " 0.5        0.5        0.8        0.6        0.5        0.625\n",
      " 0.625      0.5       ]\n"
     ]
    }
   ],
   "source": [
    "cv = RepeatedStratifiedKFold(n_splits=10, n_repeats=5)\n",
    "# Specifying multiple metrics to evaluate the performance of the model\n",
    "results = cross_validate(classifier, X, np.ravel(y), cv=cv, scoring=['recall', 'balanced_accuracy'])\n",
    "print(\"Recall: \", results[\"test_recall\"])\n",
    "print(\"Balanced Accuracy: \", results[\"test_balanced_accuracy\"])"
   ]
  },
  {
   "cell_type": "code",
   "execution_count": 24,
   "id": "0093270b",
   "metadata": {},
   "outputs": [
    {
     "name": "stdout",
     "output_type": "stream",
     "text": [
      "The average balanced accuracy is 0.582 +/- 0.082\n",
      "The average recall is 0.165 +/- 0.164\n"
     ]
    }
   ],
   "source": [
    "print(f\"The average balanced accuracy is \" f\"{results['test_balanced_accuracy'].mean():.3f} +/- {results['test_balanced_accuracy'].std():.3f}\")\n",
    "print(f\"The average recall is \" f\"{results['test_recall'].mean():.3f} +/- {results['test_recall'].std():.3f}\")"
   ]
  },
  {
   "cell_type": "markdown",
   "id": "a866709c",
   "metadata": {},
   "source": [
    "Conclusion: Decision Trees StratifiedKFold cross validation without shuffling seems to perform better than any other combination and SVM as well. "
   ]
  }
 ],
 "metadata": {
  "kernelspec": {
   "display_name": "Python 3",
   "language": "python",
   "name": "python3"
  },
  "language_info": {
   "codemirror_mode": {
    "name": "ipython",
    "version": 3
   },
   "file_extension": ".py",
   "mimetype": "text/x-python",
   "name": "python",
   "nbconvert_exporter": "python",
   "pygments_lexer": "ipython3",
   "version": "3.8.5"
  }
 },
 "nbformat": 4,
 "nbformat_minor": 5
}
