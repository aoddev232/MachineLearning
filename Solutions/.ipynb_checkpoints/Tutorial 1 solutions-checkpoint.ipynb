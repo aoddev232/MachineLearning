{
 "cells": [
  {
   "cell_type": "markdown",
   "id": "66482b91",
   "metadata": {},
   "source": [
    "## Week 1 - Tutorial Solutions"
   ]
  },
  {
   "cell_type": "code",
   "execution_count": 1,
   "id": "6ad0a433",
   "metadata": {},
   "outputs": [],
   "source": [
    "import pandas as pd\n",
    "import numpy as np"
   ]
  },
  {
   "cell_type": "markdown",
   "id": "e41a6ce3",
   "metadata": {},
   "source": [
    "**1. Load the NYC13 flights dataset**"
   ]
  },
  {
   "cell_type": "code",
   "execution_count": 2,
   "id": "5d0e99f0",
   "metadata": {},
   "outputs": [
    {
     "data": {
      "text/html": [
       "<div>\n",
       "<style scoped>\n",
       "    .dataframe tbody tr th:only-of-type {\n",
       "        vertical-align: middle;\n",
       "    }\n",
       "\n",
       "    .dataframe tbody tr th {\n",
       "        vertical-align: top;\n",
       "    }\n",
       "\n",
       "    .dataframe thead th {\n",
       "        text-align: right;\n",
       "    }\n",
       "</style>\n",
       "<table border=\"1\" class=\"dataframe\">\n",
       "  <thead>\n",
       "    <tr style=\"text-align: right;\">\n",
       "      <th></th>\n",
       "      <th>year</th>\n",
       "      <th>month</th>\n",
       "      <th>day</th>\n",
       "      <th>dep_time</th>\n",
       "      <th>dep_delay</th>\n",
       "      <th>arr_time</th>\n",
       "      <th>arr_delay</th>\n",
       "      <th>carrier</th>\n",
       "      <th>tailnum</th>\n",
       "      <th>flight</th>\n",
       "      <th>origin</th>\n",
       "      <th>dest</th>\n",
       "      <th>air_time</th>\n",
       "      <th>distance</th>\n",
       "      <th>hour</th>\n",
       "      <th>minute</th>\n",
       "    </tr>\n",
       "  </thead>\n",
       "  <tbody>\n",
       "    <tr>\n",
       "      <th>0</th>\n",
       "      <td>2013</td>\n",
       "      <td>1</td>\n",
       "      <td>1</td>\n",
       "      <td>517.0</td>\n",
       "      <td>2.0</td>\n",
       "      <td>830.0</td>\n",
       "      <td>11.0</td>\n",
       "      <td>UA</td>\n",
       "      <td>N14228</td>\n",
       "      <td>1545</td>\n",
       "      <td>EWR</td>\n",
       "      <td>IAH</td>\n",
       "      <td>227.0</td>\n",
       "      <td>1400</td>\n",
       "      <td>5.0</td>\n",
       "      <td>17.0</td>\n",
       "    </tr>\n",
       "    <tr>\n",
       "      <th>1</th>\n",
       "      <td>2013</td>\n",
       "      <td>1</td>\n",
       "      <td>1</td>\n",
       "      <td>533.0</td>\n",
       "      <td>4.0</td>\n",
       "      <td>850.0</td>\n",
       "      <td>20.0</td>\n",
       "      <td>UA</td>\n",
       "      <td>N24211</td>\n",
       "      <td>1714</td>\n",
       "      <td>LGA</td>\n",
       "      <td>IAH</td>\n",
       "      <td>227.0</td>\n",
       "      <td>1416</td>\n",
       "      <td>5.0</td>\n",
       "      <td>33.0</td>\n",
       "    </tr>\n",
       "    <tr>\n",
       "      <th>2</th>\n",
       "      <td>2013</td>\n",
       "      <td>1</td>\n",
       "      <td>1</td>\n",
       "      <td>542.0</td>\n",
       "      <td>2.0</td>\n",
       "      <td>923.0</td>\n",
       "      <td>33.0</td>\n",
       "      <td>AA</td>\n",
       "      <td>N619AA</td>\n",
       "      <td>1141</td>\n",
       "      <td>JFK</td>\n",
       "      <td>MIA</td>\n",
       "      <td>160.0</td>\n",
       "      <td>1089</td>\n",
       "      <td>5.0</td>\n",
       "      <td>42.0</td>\n",
       "    </tr>\n",
       "    <tr>\n",
       "      <th>3</th>\n",
       "      <td>2013</td>\n",
       "      <td>1</td>\n",
       "      <td>1</td>\n",
       "      <td>544.0</td>\n",
       "      <td>-1.0</td>\n",
       "      <td>1004.0</td>\n",
       "      <td>-18.0</td>\n",
       "      <td>B6</td>\n",
       "      <td>N804JB</td>\n",
       "      <td>725</td>\n",
       "      <td>JFK</td>\n",
       "      <td>BQN</td>\n",
       "      <td>183.0</td>\n",
       "      <td>1576</td>\n",
       "      <td>5.0</td>\n",
       "      <td>44.0</td>\n",
       "    </tr>\n",
       "    <tr>\n",
       "      <th>4</th>\n",
       "      <td>2013</td>\n",
       "      <td>1</td>\n",
       "      <td>1</td>\n",
       "      <td>554.0</td>\n",
       "      <td>-6.0</td>\n",
       "      <td>812.0</td>\n",
       "      <td>-25.0</td>\n",
       "      <td>DL</td>\n",
       "      <td>N668DN</td>\n",
       "      <td>461</td>\n",
       "      <td>LGA</td>\n",
       "      <td>ATL</td>\n",
       "      <td>116.0</td>\n",
       "      <td>762</td>\n",
       "      <td>5.0</td>\n",
       "      <td>54.0</td>\n",
       "    </tr>\n",
       "  </tbody>\n",
       "</table>\n",
       "</div>"
      ],
      "text/plain": [
       "   year  month  day  dep_time  dep_delay  arr_time  arr_delay carrier tailnum  \\\n",
       "0  2013      1    1     517.0        2.0     830.0       11.0      UA  N14228   \n",
       "1  2013      1    1     533.0        4.0     850.0       20.0      UA  N24211   \n",
       "2  2013      1    1     542.0        2.0     923.0       33.0      AA  N619AA   \n",
       "3  2013      1    1     544.0       -1.0    1004.0      -18.0      B6  N804JB   \n",
       "4  2013      1    1     554.0       -6.0     812.0      -25.0      DL  N668DN   \n",
       "\n",
       "   flight origin dest  air_time  distance  hour  minute  \n",
       "0    1545    EWR  IAH     227.0      1400   5.0    17.0  \n",
       "1    1714    LGA  IAH     227.0      1416   5.0    33.0  \n",
       "2    1141    JFK  MIA     160.0      1089   5.0    42.0  \n",
       "3     725    JFK  BQN     183.0      1576   5.0    44.0  \n",
       "4     461    LGA  ATL     116.0       762   5.0    54.0  "
      ]
     },
     "execution_count": 2,
     "metadata": {},
     "output_type": "execute_result"
    }
   ],
   "source": [
    "df = pd.read_csv('flights.csv')\n",
    "df.head()"
   ]
  },
  {
   "cell_type": "code",
   "execution_count": 3,
   "id": "420c6c53",
   "metadata": {},
   "outputs": [
    {
     "name": "stdout",
     "output_type": "stream",
     "text": [
      "The data contains 336776 rows and 16 columns\n"
     ]
    }
   ],
   "source": [
    "print(\"The data contains {0} rows and {1} columns\".format(df.shape[0], df.shape[1]))"
   ]
  },
  {
   "cell_type": "markdown",
   "id": "bde8c5f3",
   "metadata": {},
   "source": [
    "**2. Identify the numerical and object columns. Do you find anything incorrectly detected?**"
   ]
  },
  {
   "cell_type": "code",
   "execution_count": 4,
   "id": "f8f51c4b",
   "metadata": {},
   "outputs": [
    {
     "data": {
      "text/plain": [
       "year           int64\n",
       "month          int64\n",
       "day            int64\n",
       "dep_time     float64\n",
       "dep_delay    float64\n",
       "arr_time     float64\n",
       "arr_delay    float64\n",
       "carrier       object\n",
       "tailnum       object\n",
       "flight         int64\n",
       "origin        object\n",
       "dest          object\n",
       "air_time     float64\n",
       "distance       int64\n",
       "hour         float64\n",
       "minute       float64\n",
       "dtype: object"
      ]
     },
     "execution_count": 4,
     "metadata": {},
     "output_type": "execute_result"
    }
   ],
   "source": [
    "df.dtypes"
   ]
  },
  {
   "cell_type": "markdown",
   "id": "7269f788",
   "metadata": {},
   "source": [
    "`month` is considered as integer here. However, it should be a categorical variable. `year` can be considered a categorical or numerical data based on the context."
   ]
  },
  {
   "cell_type": "code",
   "execution_count": 5,
   "id": "14ac69e2",
   "metadata": {},
   "outputs": [
    {
     "data": {
      "text/plain": [
       "year          object\n",
       "month         object\n",
       "day            int64\n",
       "dep_time     float64\n",
       "dep_delay    float64\n",
       "arr_time     float64\n",
       "arr_delay    float64\n",
       "carrier       object\n",
       "tailnum       object\n",
       "flight         int64\n",
       "origin        object\n",
       "dest          object\n",
       "air_time     float64\n",
       "distance       int64\n",
       "hour         float64\n",
       "minute       float64\n",
       "dtype: object"
      ]
     },
     "execution_count": 5,
     "metadata": {},
     "output_type": "execute_result"
    }
   ],
   "source": [
    "#converting month to object type\n",
    "df['month'] = df['month'].apply(str)\n",
    "df['year'] = df['year'].apply(str)\n",
    "#check for datatypes again\n",
    "df.dtypes"
   ]
  },
  {
   "cell_type": "markdown",
   "id": "74f99359",
   "metadata": {},
   "source": [
    "**3a. How many different destinations are present? How many destinations have less than 10 flights listed?**"
   ]
  },
  {
   "cell_type": "code",
   "execution_count": 6,
   "id": "cbbeaf88",
   "metadata": {},
   "outputs": [
    {
     "data": {
      "text/plain": [
       "105"
      ]
     },
     "execution_count": 6,
     "metadata": {},
     "output_type": "execute_result"
    }
   ],
   "source": [
    "len(df['dest'].unique())"
   ]
  },
  {
   "cell_type": "code",
   "execution_count": 7,
   "id": "fc170263",
   "metadata": {},
   "outputs": [
    {
     "data": {
      "text/plain": [
       "ORD    17283\n",
       "ATL    17215\n",
       "Name: dest, dtype: int64"
      ]
     },
     "execution_count": 7,
     "metadata": {},
     "output_type": "execute_result"
    }
   ],
   "source": [
    "dest_value_counts = df['dest'].value_counts()\n",
    "dest_value_counts[:2]"
   ]
  },
  {
   "cell_type": "code",
   "execution_count": 8,
   "id": "5e4f0a83",
   "metadata": {},
   "outputs": [
    {
     "data": {
      "text/plain": [
       "SBN    10\n",
       "ANC     8\n",
       "LEX     1\n",
       "LGA     1\n",
       "Name: dest, dtype: int64"
      ]
     },
     "execution_count": 8,
     "metadata": {},
     "output_type": "execute_result"
    }
   ],
   "source": [
    "dest_value_counts[dest_value_counts <= 10]"
   ]
  },
  {
   "cell_type": "markdown",
   "id": "8b1c5a52",
   "metadata": {},
   "source": [
    "4 destinations have less than 10 flights listed in this dataset."
   ]
  },
  {
   "cell_type": "markdown",
   "id": "abce3096",
   "metadata": {},
   "source": [
    "**3b. Identify the top 3 carriers and compute what proportion of the flights do they have listed in this data?**"
   ]
  },
  {
   "cell_type": "code",
   "execution_count": 9,
   "id": "1536adc6",
   "metadata": {},
   "outputs": [
    {
     "data": {
      "text/plain": [
       "UA    0.174196\n",
       "B6    0.162229\n",
       "EV    0.160858\n",
       "DL    0.142855\n",
       "AA    0.097183\n",
       "MQ    0.078381\n",
       "US    0.060978\n",
       "9E    0.054814\n",
       "WN    0.036449\n",
       "VX    0.015328\n",
       "FL    0.009680\n",
       "AS    0.002120\n",
       "F9    0.002034\n",
       "YV    0.001785\n",
       "HA    0.001016\n",
       "OO    0.000095\n",
       "Name: carrier, dtype: float64"
      ]
     },
     "execution_count": 9,
     "metadata": {},
     "output_type": "execute_result"
    }
   ],
   "source": [
    "# https://pandas.pydata.org/pandas-docs/dev/reference/api/pandas.Series.value_counts.html\n",
    "df['carrier'].value_counts(normalize=True)"
   ]
  },
  {
   "cell_type": "markdown",
   "id": "10537ebb",
   "metadata": {},
   "source": [
    "The top 3 carriers include UA (17%), B6 (16%) and EV (16%)."
   ]
  },
  {
   "cell_type": "markdown",
   "id": "1fa790e9",
   "metadata": {},
   "source": [
    "**4a. Calculate the number of missing values for each column**"
   ]
  },
  {
   "cell_type": "code",
   "execution_count": 10,
   "id": "3610f74b",
   "metadata": {},
   "outputs": [
    {
     "data": {
      "text/plain": [
       "year            0\n",
       "month           0\n",
       "day             0\n",
       "dep_time     8255\n",
       "dep_delay    8255\n",
       "arr_time     8713\n",
       "arr_delay    9430\n",
       "carrier         0\n",
       "tailnum      2512\n",
       "flight          0\n",
       "origin          0\n",
       "dest            0\n",
       "air_time     9430\n",
       "distance        0\n",
       "hour         8255\n",
       "minute       8255\n",
       "dtype: int64"
      ]
     },
     "execution_count": 10,
     "metadata": {},
     "output_type": "execute_result"
    }
   ],
   "source": [
    "df.isnull().sum()"
   ]
  },
  {
   "cell_type": "markdown",
   "id": "a602213e",
   "metadata": {},
   "source": [
    "**4b. Calculate the number of missing values for the whole dataset**"
   ]
  },
  {
   "cell_type": "code",
   "execution_count": 11,
   "id": "dfe36c4c",
   "metadata": {},
   "outputs": [
    {
     "name": "stdout",
     "output_type": "stream",
     "text": [
      "The number of missing values in the whole dataset is 63105\n"
     ]
    }
   ],
   "source": [
    "print(\"The number of missing values in the whole dataset is {0}\".format(df.isnull().sum().sum()))"
   ]
  },
  {
   "cell_type": "markdown",
   "id": "a751cfea",
   "metadata": {},
   "source": [
    "**5. Descriptive Statistics**"
   ]
  },
  {
   "cell_type": "code",
   "execution_count": 12,
   "id": "11775710",
   "metadata": {},
   "outputs": [
    {
     "data": {
      "text/plain": [
       "Index(['day', 'dep_time', 'dep_delay', 'arr_time', 'arr_delay', 'flight',\n",
       "       'air_time', 'distance', 'hour', 'minute'],\n",
       "      dtype='object')"
      ]
     },
     "execution_count": 12,
     "metadata": {},
     "output_type": "execute_result"
    }
   ],
   "source": [
    "#Update the numeric features, after converting ID and flag to 'category'.\n",
    "numeric_columns = df.select_dtypes(['int64', 'float64']).columns\n",
    "numeric_columns"
   ]
  },
  {
   "cell_type": "code",
   "execution_count": 13,
   "id": "69eda1b1",
   "metadata": {},
   "outputs": [
    {
     "data": {
      "text/plain": [
       "day             8.768607\n",
       "dep_time      488.281791\n",
       "dep_delay      40.210061\n",
       "arr_time      533.264132\n",
       "arr_delay      44.633292\n",
       "flight       1632.471938\n",
       "air_time       93.688305\n",
       "distance      733.233033\n",
       "hour            4.894426\n",
       "minute         18.230997\n",
       "dtype: float64"
      ]
     },
     "execution_count": 13,
     "metadata": {},
     "output_type": "execute_result"
    }
   ],
   "source": [
    "df[numeric_columns].std()"
   ]
  },
  {
   "cell_type": "code",
   "execution_count": 14,
   "id": "911654ff",
   "metadata": {},
   "outputs": [
    {
     "data": {
      "text/plain": [
       "day            16.0\n",
       "dep_time     1401.0\n",
       "dep_delay      -2.0\n",
       "arr_time     1535.0\n",
       "arr_delay      -5.0\n",
       "flight       1496.0\n",
       "air_time      129.0\n",
       "distance      872.0\n",
       "hour           14.0\n",
       "minute         31.0\n",
       "dtype: float64"
      ]
     },
     "execution_count": 14,
     "metadata": {},
     "output_type": "execute_result"
    }
   ],
   "source": [
    "df[numeric_columns].median()"
   ]
  }
 ],
 "metadata": {
  "kernelspec": {
   "display_name": "Python 3",
   "language": "python",
   "name": "python3"
  },
  "language_info": {
   "codemirror_mode": {
    "name": "ipython",
    "version": 3
   },
   "file_extension": ".py",
   "mimetype": "text/x-python",
   "name": "python",
   "nbconvert_exporter": "python",
   "pygments_lexer": "ipython3",
   "version": "3.7.10"
  }
 },
 "nbformat": 4,
 "nbformat_minor": 5
}
