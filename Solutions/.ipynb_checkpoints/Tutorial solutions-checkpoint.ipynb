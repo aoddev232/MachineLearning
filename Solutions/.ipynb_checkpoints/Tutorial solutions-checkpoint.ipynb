{
 "cells": [
  {
   "cell_type": "markdown",
   "id": "25afa689",
   "metadata": {},
   "source": [
    "## Week 4: Tutorial solutions"
   ]
  },
  {
   "cell_type": "markdown",
   "id": "effe1ec1",
   "metadata": {},
   "source": [
    "#### Import Packages"
   ]
  },
  {
   "cell_type": "code",
   "execution_count": 1,
   "id": "6e960af4",
   "metadata": {},
   "outputs": [],
   "source": [
    "import pandas as pd\n",
    "from sklearn import datasets\n",
    "from sklearn.metrics import accuracy_score\n",
    "from sklearn.preprocessing import StandardScaler\n",
    "from sklearn.model_selection import train_test_split\n",
    "\n",
    "from sklearn.decomposition import PCA\n",
    "from sklearn.neighbors import KNeighborsClassifier\n",
    "from sklearn.feature_selection import chi2, mutual_info_classif, SelectKBest"
   ]
  },
  {
   "cell_type": "code",
   "execution_count": 2,
   "id": "e290c27e",
   "metadata": {},
   "outputs": [
    {
     "name": "stdout",
     "output_type": "stream",
     "text": [
      ".. _wine_dataset:\n",
      "\n",
      "Wine recognition dataset\n",
      "------------------------\n",
      "\n",
      "**Data Set Characteristics:**\n",
      "\n",
      "    :Number of Instances: 178 (50 in each of three classes)\n",
      "    :Number of Attributes: 13 numeric, predictive attributes and the class\n",
      "    :Attribute Information:\n",
      " \t\t- Alcohol\n",
      " \t\t- Malic acid\n",
      " \t\t- Ash\n",
      "\t\t- Alcalinity of ash  \n",
      " \t\t- Magnesium\n",
      "\t\t- Total phenols\n",
      " \t\t- Flavanoids\n",
      " \t\t- Nonflavanoid phenols\n",
      " \t\t- Proanthocyanins\n",
      "\t\t- Color intensity\n",
      " \t\t- Hue\n",
      " \t\t- OD280/OD315 of diluted wines\n",
      " \t\t- Proline\n",
      "\n",
      "    - class:\n",
      "            - class_0\n",
      "            - class_1\n",
      "            - class_2\n",
      "\t\t\n",
      "    :Summary Statistics:\n",
      "    \n",
      "    ============================= ==== ===== ======= =====\n",
      "                                   Min   Max   Mean     SD\n",
      "    ============================= ==== ===== ======= =====\n",
      "    Alcohol:                      11.0  14.8    13.0   0.8\n",
      "    Malic Acid:                   0.74  5.80    2.34  1.12\n",
      "    Ash:                          1.36  3.23    2.36  0.27\n",
      "    Alcalinity of Ash:            10.6  30.0    19.5   3.3\n",
      "    Magnesium:                    70.0 162.0    99.7  14.3\n",
      "    Total Phenols:                0.98  3.88    2.29  0.63\n",
      "    Flavanoids:                   0.34  5.08    2.03  1.00\n",
      "    Nonflavanoid Phenols:         0.13  0.66    0.36  0.12\n",
      "    Proanthocyanins:              0.41  3.58    1.59  0.57\n",
      "    Colour Intensity:              1.3  13.0     5.1   2.3\n",
      "    Hue:                          0.48  1.71    0.96  0.23\n",
      "    OD280/OD315 of diluted wines: 1.27  4.00    2.61  0.71\n",
      "    Proline:                       278  1680     746   315\n",
      "    ============================= ==== ===== ======= =====\n",
      "\n",
      "    :Missing Attribute Values: None\n",
      "    :Class Distribution: class_0 (59), class_1 (71), class_2 (48)\n",
      "    :Creator: R.A. Fisher\n",
      "    :Donor: Michael Marshall (MARSHALL%PLU@io.arc.nasa.gov)\n",
      "    :Date: July, 1988\n",
      "\n",
      "This is a copy of UCI ML Wine recognition datasets.\n",
      "https://archive.ics.uci.edu/ml/machine-learning-databases/wine/wine.data\n",
      "\n",
      "The data is the results of a chemical analysis of wines grown in the same\n",
      "region in Italy by three different cultivators. There are thirteen different\n",
      "measurements taken for different constituents found in the three types of\n",
      "wine.\n",
      "\n",
      "Original Owners: \n",
      "\n",
      "Forina, M. et al, PARVUS - \n",
      "An Extendible Package for Data Exploration, Classification and Correlation. \n",
      "Institute of Pharmaceutical and Food Analysis and Technologies,\n",
      "Via Brigata Salerno, 16147 Genoa, Italy.\n",
      "\n",
      "Citation:\n",
      "\n",
      "Lichman, M. (2013). UCI Machine Learning Repository\n",
      "[https://archive.ics.uci.edu/ml]. Irvine, CA: University of California,\n",
      "School of Information and Computer Science. \n",
      "\n",
      ".. topic:: References\n",
      "\n",
      "  (1) S. Aeberhard, D. Coomans and O. de Vel, \n",
      "  Comparison of Classifiers in High Dimensional Settings, \n",
      "  Tech. Rep. no. 92-02, (1992), Dept. of Computer Science and Dept. of  \n",
      "  Mathematics and Statistics, James Cook University of North Queensland. \n",
      "  (Also submitted to Technometrics). \n",
      "\n",
      "  The data was used with many others for comparing various \n",
      "  classifiers. The classes are separable, though only RDA \n",
      "  has achieved 100% correct classification. \n",
      "  (RDA : 100%, QDA 99.4%, LDA 98.9%, 1NN 96.1% (z-transformed data)) \n",
      "  (All results using the leave-one-out technique) \n",
      "\n",
      "  (2) S. Aeberhard, D. Coomans and O. de Vel, \n",
      "  \"THE CLASSIFICATION PERFORMANCE OF RDA\" \n",
      "  Tech. Rep. no. 92-01, (1992), Dept. of Computer Science and Dept. of \n",
      "  Mathematics and Statistics, James Cook University of North Queensland. \n",
      "  (Also submitted to Journal of Chemometrics).\n",
      "\n"
     ]
    }
   ],
   "source": [
    "# import wine dataset that is given by scikit-learn, 'as_frame=True' ensures to return the data as a dataframe\n",
    "wine = datasets.load_wine(as_frame=True)\n",
    "# Describes the dataset\n",
    "print(wine.DESCR)"
   ]
  },
  {
   "cell_type": "code",
   "execution_count": 3,
   "id": "bc0e425c",
   "metadata": {},
   "outputs": [
    {
     "name": "stdout",
     "output_type": "stream",
     "text": [
      "The dataset contains 178 samples and 13 features\n"
     ]
    },
    {
     "data": {
      "text/html": [
       "<div>\n",
       "<style scoped>\n",
       "    .dataframe tbody tr th:only-of-type {\n",
       "        vertical-align: middle;\n",
       "    }\n",
       "\n",
       "    .dataframe tbody tr th {\n",
       "        vertical-align: top;\n",
       "    }\n",
       "\n",
       "    .dataframe thead th {\n",
       "        text-align: right;\n",
       "    }\n",
       "</style>\n",
       "<table border=\"1\" class=\"dataframe\">\n",
       "  <thead>\n",
       "    <tr style=\"text-align: right;\">\n",
       "      <th></th>\n",
       "      <th>alcohol</th>\n",
       "      <th>malic_acid</th>\n",
       "      <th>ash</th>\n",
       "      <th>alcalinity_of_ash</th>\n",
       "      <th>magnesium</th>\n",
       "      <th>total_phenols</th>\n",
       "      <th>flavanoids</th>\n",
       "      <th>nonflavanoid_phenols</th>\n",
       "      <th>proanthocyanins</th>\n",
       "      <th>color_intensity</th>\n",
       "      <th>hue</th>\n",
       "      <th>od280/od315_of_diluted_wines</th>\n",
       "      <th>proline</th>\n",
       "    </tr>\n",
       "  </thead>\n",
       "  <tbody>\n",
       "    <tr>\n",
       "      <th>0</th>\n",
       "      <td>14.23</td>\n",
       "      <td>1.71</td>\n",
       "      <td>2.43</td>\n",
       "      <td>15.6</td>\n",
       "      <td>127.0</td>\n",
       "      <td>2.80</td>\n",
       "      <td>3.06</td>\n",
       "      <td>0.28</td>\n",
       "      <td>2.29</td>\n",
       "      <td>5.64</td>\n",
       "      <td>1.04</td>\n",
       "      <td>3.92</td>\n",
       "      <td>1065.0</td>\n",
       "    </tr>\n",
       "    <tr>\n",
       "      <th>1</th>\n",
       "      <td>13.20</td>\n",
       "      <td>1.78</td>\n",
       "      <td>2.14</td>\n",
       "      <td>11.2</td>\n",
       "      <td>100.0</td>\n",
       "      <td>2.65</td>\n",
       "      <td>2.76</td>\n",
       "      <td>0.26</td>\n",
       "      <td>1.28</td>\n",
       "      <td>4.38</td>\n",
       "      <td>1.05</td>\n",
       "      <td>3.40</td>\n",
       "      <td>1050.0</td>\n",
       "    </tr>\n",
       "    <tr>\n",
       "      <th>2</th>\n",
       "      <td>13.16</td>\n",
       "      <td>2.36</td>\n",
       "      <td>2.67</td>\n",
       "      <td>18.6</td>\n",
       "      <td>101.0</td>\n",
       "      <td>2.80</td>\n",
       "      <td>3.24</td>\n",
       "      <td>0.30</td>\n",
       "      <td>2.81</td>\n",
       "      <td>5.68</td>\n",
       "      <td>1.03</td>\n",
       "      <td>3.17</td>\n",
       "      <td>1185.0</td>\n",
       "    </tr>\n",
       "    <tr>\n",
       "      <th>3</th>\n",
       "      <td>14.37</td>\n",
       "      <td>1.95</td>\n",
       "      <td>2.50</td>\n",
       "      <td>16.8</td>\n",
       "      <td>113.0</td>\n",
       "      <td>3.85</td>\n",
       "      <td>3.49</td>\n",
       "      <td>0.24</td>\n",
       "      <td>2.18</td>\n",
       "      <td>7.80</td>\n",
       "      <td>0.86</td>\n",
       "      <td>3.45</td>\n",
       "      <td>1480.0</td>\n",
       "    </tr>\n",
       "    <tr>\n",
       "      <th>4</th>\n",
       "      <td>13.24</td>\n",
       "      <td>2.59</td>\n",
       "      <td>2.87</td>\n",
       "      <td>21.0</td>\n",
       "      <td>118.0</td>\n",
       "      <td>2.80</td>\n",
       "      <td>2.69</td>\n",
       "      <td>0.39</td>\n",
       "      <td>1.82</td>\n",
       "      <td>4.32</td>\n",
       "      <td>1.04</td>\n",
       "      <td>2.93</td>\n",
       "      <td>735.0</td>\n",
       "    </tr>\n",
       "  </tbody>\n",
       "</table>\n",
       "</div>"
      ],
      "text/plain": [
       "   alcohol  malic_acid   ash  alcalinity_of_ash  magnesium  total_phenols  \\\n",
       "0    14.23        1.71  2.43               15.6      127.0           2.80   \n",
       "1    13.20        1.78  2.14               11.2      100.0           2.65   \n",
       "2    13.16        2.36  2.67               18.6      101.0           2.80   \n",
       "3    14.37        1.95  2.50               16.8      113.0           3.85   \n",
       "4    13.24        2.59  2.87               21.0      118.0           2.80   \n",
       "\n",
       "   flavanoids  nonflavanoid_phenols  proanthocyanins  color_intensity   hue  \\\n",
       "0        3.06                  0.28             2.29             5.64  1.04   \n",
       "1        2.76                  0.26             1.28             4.38  1.05   \n",
       "2        3.24                  0.30             2.81             5.68  1.03   \n",
       "3        3.49                  0.24             2.18             7.80  0.86   \n",
       "4        2.69                  0.39             1.82             4.32  1.04   \n",
       "\n",
       "   od280/od315_of_diluted_wines  proline  \n",
       "0                          3.92   1065.0  \n",
       "1                          3.40   1050.0  \n",
       "2                          3.17   1185.0  \n",
       "3                          3.45   1480.0  \n",
       "4                          2.93    735.0  "
      ]
     },
     "execution_count": 3,
     "metadata": {},
     "output_type": "execute_result"
    }
   ],
   "source": [
    "X = wine.data\n",
    "print(f\"The dataset contains {X.shape[0]} samples and \"f\"{X.shape[1]} features\")\n",
    "X.head()"
   ]
  },
  {
   "cell_type": "code",
   "execution_count": 4,
   "id": "a2c52dd8",
   "metadata": {},
   "outputs": [
    {
     "data": {
      "text/html": [
       "<div>\n",
       "<style scoped>\n",
       "    .dataframe tbody tr th:only-of-type {\n",
       "        vertical-align: middle;\n",
       "    }\n",
       "\n",
       "    .dataframe tbody tr th {\n",
       "        vertical-align: top;\n",
       "    }\n",
       "\n",
       "    .dataframe thead th {\n",
       "        text-align: right;\n",
       "    }\n",
       "</style>\n",
       "<table border=\"1\" class=\"dataframe\">\n",
       "  <thead>\n",
       "    <tr style=\"text-align: right;\">\n",
       "      <th></th>\n",
       "      <th>count</th>\n",
       "      <th>mean</th>\n",
       "      <th>std</th>\n",
       "      <th>min</th>\n",
       "      <th>25%</th>\n",
       "      <th>50%</th>\n",
       "      <th>75%</th>\n",
       "      <th>max</th>\n",
       "    </tr>\n",
       "  </thead>\n",
       "  <tbody>\n",
       "    <tr>\n",
       "      <th>alcohol</th>\n",
       "      <td>178.0</td>\n",
       "      <td>13.000618</td>\n",
       "      <td>0.811827</td>\n",
       "      <td>11.03</td>\n",
       "      <td>12.3625</td>\n",
       "      <td>13.050</td>\n",
       "      <td>13.6775</td>\n",
       "      <td>14.83</td>\n",
       "    </tr>\n",
       "    <tr>\n",
       "      <th>malic_acid</th>\n",
       "      <td>178.0</td>\n",
       "      <td>2.336348</td>\n",
       "      <td>1.117146</td>\n",
       "      <td>0.74</td>\n",
       "      <td>1.6025</td>\n",
       "      <td>1.865</td>\n",
       "      <td>3.0825</td>\n",
       "      <td>5.80</td>\n",
       "    </tr>\n",
       "    <tr>\n",
       "      <th>ash</th>\n",
       "      <td>178.0</td>\n",
       "      <td>2.366517</td>\n",
       "      <td>0.274344</td>\n",
       "      <td>1.36</td>\n",
       "      <td>2.2100</td>\n",
       "      <td>2.360</td>\n",
       "      <td>2.5575</td>\n",
       "      <td>3.23</td>\n",
       "    </tr>\n",
       "    <tr>\n",
       "      <th>alcalinity_of_ash</th>\n",
       "      <td>178.0</td>\n",
       "      <td>19.494944</td>\n",
       "      <td>3.339564</td>\n",
       "      <td>10.60</td>\n",
       "      <td>17.2000</td>\n",
       "      <td>19.500</td>\n",
       "      <td>21.5000</td>\n",
       "      <td>30.00</td>\n",
       "    </tr>\n",
       "    <tr>\n",
       "      <th>magnesium</th>\n",
       "      <td>178.0</td>\n",
       "      <td>99.741573</td>\n",
       "      <td>14.282484</td>\n",
       "      <td>70.00</td>\n",
       "      <td>88.0000</td>\n",
       "      <td>98.000</td>\n",
       "      <td>107.0000</td>\n",
       "      <td>162.00</td>\n",
       "    </tr>\n",
       "    <tr>\n",
       "      <th>total_phenols</th>\n",
       "      <td>178.0</td>\n",
       "      <td>2.295112</td>\n",
       "      <td>0.625851</td>\n",
       "      <td>0.98</td>\n",
       "      <td>1.7425</td>\n",
       "      <td>2.355</td>\n",
       "      <td>2.8000</td>\n",
       "      <td>3.88</td>\n",
       "    </tr>\n",
       "    <tr>\n",
       "      <th>flavanoids</th>\n",
       "      <td>178.0</td>\n",
       "      <td>2.029270</td>\n",
       "      <td>0.998859</td>\n",
       "      <td>0.34</td>\n",
       "      <td>1.2050</td>\n",
       "      <td>2.135</td>\n",
       "      <td>2.8750</td>\n",
       "      <td>5.08</td>\n",
       "    </tr>\n",
       "    <tr>\n",
       "      <th>nonflavanoid_phenols</th>\n",
       "      <td>178.0</td>\n",
       "      <td>0.361854</td>\n",
       "      <td>0.124453</td>\n",
       "      <td>0.13</td>\n",
       "      <td>0.2700</td>\n",
       "      <td>0.340</td>\n",
       "      <td>0.4375</td>\n",
       "      <td>0.66</td>\n",
       "    </tr>\n",
       "    <tr>\n",
       "      <th>proanthocyanins</th>\n",
       "      <td>178.0</td>\n",
       "      <td>1.590899</td>\n",
       "      <td>0.572359</td>\n",
       "      <td>0.41</td>\n",
       "      <td>1.2500</td>\n",
       "      <td>1.555</td>\n",
       "      <td>1.9500</td>\n",
       "      <td>3.58</td>\n",
       "    </tr>\n",
       "    <tr>\n",
       "      <th>color_intensity</th>\n",
       "      <td>178.0</td>\n",
       "      <td>5.058090</td>\n",
       "      <td>2.318286</td>\n",
       "      <td>1.28</td>\n",
       "      <td>3.2200</td>\n",
       "      <td>4.690</td>\n",
       "      <td>6.2000</td>\n",
       "      <td>13.00</td>\n",
       "    </tr>\n",
       "    <tr>\n",
       "      <th>hue</th>\n",
       "      <td>178.0</td>\n",
       "      <td>0.957449</td>\n",
       "      <td>0.228572</td>\n",
       "      <td>0.48</td>\n",
       "      <td>0.7825</td>\n",
       "      <td>0.965</td>\n",
       "      <td>1.1200</td>\n",
       "      <td>1.71</td>\n",
       "    </tr>\n",
       "    <tr>\n",
       "      <th>od280/od315_of_diluted_wines</th>\n",
       "      <td>178.0</td>\n",
       "      <td>2.611685</td>\n",
       "      <td>0.709990</td>\n",
       "      <td>1.27</td>\n",
       "      <td>1.9375</td>\n",
       "      <td>2.780</td>\n",
       "      <td>3.1700</td>\n",
       "      <td>4.00</td>\n",
       "    </tr>\n",
       "    <tr>\n",
       "      <th>proline</th>\n",
       "      <td>178.0</td>\n",
       "      <td>746.893258</td>\n",
       "      <td>314.907474</td>\n",
       "      <td>278.00</td>\n",
       "      <td>500.5000</td>\n",
       "      <td>673.500</td>\n",
       "      <td>985.0000</td>\n",
       "      <td>1680.00</td>\n",
       "    </tr>\n",
       "  </tbody>\n",
       "</table>\n",
       "</div>"
      ],
      "text/plain": [
       "                              count        mean         std     min       25%  \\\n",
       "alcohol                       178.0   13.000618    0.811827   11.03   12.3625   \n",
       "malic_acid                    178.0    2.336348    1.117146    0.74    1.6025   \n",
       "ash                           178.0    2.366517    0.274344    1.36    2.2100   \n",
       "alcalinity_of_ash             178.0   19.494944    3.339564   10.60   17.2000   \n",
       "magnesium                     178.0   99.741573   14.282484   70.00   88.0000   \n",
       "total_phenols                 178.0    2.295112    0.625851    0.98    1.7425   \n",
       "flavanoids                    178.0    2.029270    0.998859    0.34    1.2050   \n",
       "nonflavanoid_phenols          178.0    0.361854    0.124453    0.13    0.2700   \n",
       "proanthocyanins               178.0    1.590899    0.572359    0.41    1.2500   \n",
       "color_intensity               178.0    5.058090    2.318286    1.28    3.2200   \n",
       "hue                           178.0    0.957449    0.228572    0.48    0.7825   \n",
       "od280/od315_of_diluted_wines  178.0    2.611685    0.709990    1.27    1.9375   \n",
       "proline                       178.0  746.893258  314.907474  278.00  500.5000   \n",
       "\n",
       "                                  50%       75%      max  \n",
       "alcohol                        13.050   13.6775    14.83  \n",
       "malic_acid                      1.865    3.0825     5.80  \n",
       "ash                             2.360    2.5575     3.23  \n",
       "alcalinity_of_ash              19.500   21.5000    30.00  \n",
       "magnesium                      98.000  107.0000   162.00  \n",
       "total_phenols                   2.355    2.8000     3.88  \n",
       "flavanoids                      2.135    2.8750     5.08  \n",
       "nonflavanoid_phenols            0.340    0.4375     0.66  \n",
       "proanthocyanins                 1.555    1.9500     3.58  \n",
       "color_intensity                 4.690    6.2000    13.00  \n",
       "hue                             0.965    1.1200     1.71  \n",
       "od280/od315_of_diluted_wines    2.780    3.1700     4.00  \n",
       "proline                       673.500  985.0000  1680.00  "
      ]
     },
     "execution_count": 4,
     "metadata": {},
     "output_type": "execute_result"
    }
   ],
   "source": [
    "X.describe().T"
   ]
  },
  {
   "cell_type": "code",
   "execution_count": 5,
   "id": "d3e928ef",
   "metadata": {},
   "outputs": [
    {
     "data": {
      "text/plain": [
       "0    0\n",
       "1    0\n",
       "2    0\n",
       "3    0\n",
       "4    0\n",
       "Name: target, dtype: int64"
      ]
     },
     "execution_count": 5,
     "metadata": {},
     "output_type": "execute_result"
    }
   ],
   "source": [
    "y = wine.target\n",
    "y.head()"
   ]
  },
  {
   "cell_type": "code",
   "execution_count": 6,
   "id": "d18c9d8b",
   "metadata": {},
   "outputs": [
    {
     "data": {
      "text/plain": [
       "1    71\n",
       "0    59\n",
       "2    48\n",
       "Name: target, dtype: int64"
      ]
     },
     "execution_count": 6,
     "metadata": {},
     "output_type": "execute_result"
    }
   ],
   "source": [
    "y.value_counts()"
   ]
  },
  {
   "cell_type": "code",
   "execution_count": 7,
   "id": "6d199c30",
   "metadata": {},
   "outputs": [],
   "source": [
    "X_train, X_test, y_train, y_test = train_test_split(X, y, random_state=1)"
   ]
  },
  {
   "cell_type": "code",
   "execution_count": 8,
   "id": "437d3774",
   "metadata": {},
   "outputs": [
    {
     "data": {
      "text/html": [
       "<div>\n",
       "<style scoped>\n",
       "    .dataframe tbody tr th:only-of-type {\n",
       "        vertical-align: middle;\n",
       "    }\n",
       "\n",
       "    .dataframe tbody tr th {\n",
       "        vertical-align: top;\n",
       "    }\n",
       "\n",
       "    .dataframe thead th {\n",
       "        text-align: right;\n",
       "    }\n",
       "</style>\n",
       "<table border=\"1\" class=\"dataframe\">\n",
       "  <thead>\n",
       "    <tr style=\"text-align: right;\">\n",
       "      <th></th>\n",
       "      <th>alcohol</th>\n",
       "      <th>malic_acid</th>\n",
       "      <th>ash</th>\n",
       "      <th>alcalinity_of_ash</th>\n",
       "      <th>magnesium</th>\n",
       "      <th>total_phenols</th>\n",
       "      <th>flavanoids</th>\n",
       "      <th>nonflavanoid_phenols</th>\n",
       "      <th>proanthocyanins</th>\n",
       "      <th>color_intensity</th>\n",
       "      <th>hue</th>\n",
       "      <th>od280/od315_of_diluted_wines</th>\n",
       "      <th>proline</th>\n",
       "    </tr>\n",
       "  </thead>\n",
       "  <tbody>\n",
       "    <tr>\n",
       "      <th>44</th>\n",
       "      <td>0.093977</td>\n",
       "      <td>-0.557879</td>\n",
       "      <td>-0.957529</td>\n",
       "      <td>-0.812987</td>\n",
       "      <td>0.602004</td>\n",
       "      <td>1.180371</td>\n",
       "      <td>1.021742</td>\n",
       "      <td>-0.743746</td>\n",
       "      <td>0.801107</td>\n",
       "      <td>0.000157</td>\n",
       "      <td>-0.332934</td>\n",
       "      <td>1.081639</td>\n",
       "      <td>0.471259</td>\n",
       "    </tr>\n",
       "    <tr>\n",
       "      <th>78</th>\n",
       "      <td>-0.815037</td>\n",
       "      <td>-1.226791</td>\n",
       "      <td>-1.506457</td>\n",
       "      <td>-1.489936</td>\n",
       "      <td>2.718621</td>\n",
       "      <td>-0.567133</td>\n",
       "      <td>-0.121876</td>\n",
       "      <td>-0.158431</td>\n",
       "      <td>2.052185</td>\n",
       "      <td>-0.686666</td>\n",
       "      <td>0.432278</td>\n",
       "      <td>-0.366970</td>\n",
       "      <td>0.024107</td>\n",
       "    </tr>\n",
       "  </tbody>\n",
       "</table>\n",
       "</div>"
      ],
      "text/plain": [
       "     alcohol  malic_acid       ash  alcalinity_of_ash  magnesium  \\\n",
       "44  0.093977   -0.557879 -0.957529          -0.812987   0.602004   \n",
       "78 -0.815037   -1.226791 -1.506457          -1.489936   2.718621   \n",
       "\n",
       "    total_phenols  flavanoids  nonflavanoid_phenols  proanthocyanins  \\\n",
       "44       1.180371    1.021742             -0.743746         0.801107   \n",
       "78      -0.567133   -0.121876             -0.158431         2.052185   \n",
       "\n",
       "    color_intensity       hue  od280/od315_of_diluted_wines   proline  \n",
       "44         0.000157 -0.332934                      1.081639  0.471259  \n",
       "78        -0.686666  0.432278                     -0.366970  0.024107  "
      ]
     },
     "execution_count": 8,
     "metadata": {},
     "output_type": "execute_result"
    }
   ],
   "source": [
    "# Refer to https://scikit-learn.org/stable/modules/classes.html#module-sklearn.preprocessing for preprocessing data\n",
    "scaler = StandardScaler()\n",
    "X_train_scaled = pd.DataFrame(scaler.fit_transform(X_train.values), index=X_train.index, columns=X_train.columns) \n",
    "X_train_scaled.head(2)"
   ]
  },
  {
   "cell_type": "code",
   "execution_count": 9,
   "id": "2c991986",
   "metadata": {},
   "outputs": [
    {
     "data": {
      "text/html": [
       "<div>\n",
       "<style scoped>\n",
       "    .dataframe tbody tr th:only-of-type {\n",
       "        vertical-align: middle;\n",
       "    }\n",
       "\n",
       "    .dataframe tbody tr th {\n",
       "        vertical-align: top;\n",
       "    }\n",
       "\n",
       "    .dataframe thead th {\n",
       "        text-align: right;\n",
       "    }\n",
       "</style>\n",
       "<table border=\"1\" class=\"dataframe\">\n",
       "  <thead>\n",
       "    <tr style=\"text-align: right;\">\n",
       "      <th></th>\n",
       "      <th>alcohol</th>\n",
       "      <th>malic_acid</th>\n",
       "      <th>ash</th>\n",
       "      <th>alcalinity_of_ash</th>\n",
       "      <th>magnesium</th>\n",
       "      <th>total_phenols</th>\n",
       "      <th>flavanoids</th>\n",
       "      <th>nonflavanoid_phenols</th>\n",
       "      <th>proanthocyanins</th>\n",
       "      <th>color_intensity</th>\n",
       "      <th>hue</th>\n",
       "      <th>od280/od315_of_diluted_wines</th>\n",
       "      <th>proline</th>\n",
       "    </tr>\n",
       "  </thead>\n",
       "  <tbody>\n",
       "    <tr>\n",
       "      <th>161</th>\n",
       "      <td>0.901989</td>\n",
       "      <td>0.719916</td>\n",
       "      <td>0.652660</td>\n",
       "      <td>0.110126</td>\n",
       "      <td>0.602004</td>\n",
       "      <td>-0.678337</td>\n",
       "      <td>-1.404717</td>\n",
       "      <td>1.095816</td>\n",
       "      <td>-1.306873</td>\n",
       "      <td>0.351945</td>\n",
       "      <td>0.007160</td>\n",
       "      <td>-1.049487</td>\n",
       "      <td>-0.20775</td>\n",
       "    </tr>\n",
       "    <tr>\n",
       "      <th>117</th>\n",
       "      <td>-0.701410</td>\n",
       "      <td>-0.695092</td>\n",
       "      <td>-0.628172</td>\n",
       "      <td>0.879386</td>\n",
       "      <td>0.674991</td>\n",
       "      <td>-0.408269</td>\n",
       "      <td>0.116792</td>\n",
       "      <td>-0.242048</td>\n",
       "      <td>0.081309</td>\n",
       "      <td>-1.247851</td>\n",
       "      <td>0.432278</td>\n",
       "      <td>0.538411</td>\n",
       "      <td>-1.31735</td>\n",
       "    </tr>\n",
       "  </tbody>\n",
       "</table>\n",
       "</div>"
      ],
      "text/plain": [
       "      alcohol  malic_acid       ash  alcalinity_of_ash  magnesium  \\\n",
       "161  0.901989    0.719916  0.652660           0.110126   0.602004   \n",
       "117 -0.701410   -0.695092 -0.628172           0.879386   0.674991   \n",
       "\n",
       "     total_phenols  flavanoids  nonflavanoid_phenols  proanthocyanins  \\\n",
       "161      -0.678337   -1.404717              1.095816        -1.306873   \n",
       "117      -0.408269    0.116792             -0.242048         0.081309   \n",
       "\n",
       "     color_intensity       hue  od280/od315_of_diluted_wines  proline  \n",
       "161         0.351945  0.007160                     -1.049487 -0.20775  \n",
       "117        -1.247851  0.432278                      0.538411 -1.31735  "
      ]
     },
     "execution_count": 9,
     "metadata": {},
     "output_type": "execute_result"
    }
   ],
   "source": [
    "X_test_scaled = pd.DataFrame(scaler.transform(X_test.values), index=X_test.index, columns=X_test.columns) \n",
    "X_test_scaled.head(2)"
   ]
  },
  {
   "cell_type": "markdown",
   "id": "884c996d",
   "metadata": {},
   "source": [
    "#### Tutorial 4A (Part A): \n",
    "\n",
    "**1. Apply other conditions of IG based on lecture and compare the performance of the model when applied to mutual_info_classif.**"
   ]
  },
  {
   "cell_type": "markdown",
   "id": "163c14af",
   "metadata": {},
   "source": [
    "#### a. Select top 50% of the features"
   ]
  },
  {
   "cell_type": "code",
   "execution_count": 10,
   "id": "ca3761c8",
   "metadata": {
    "scrolled": true
   },
   "outputs": [
    {
     "data": {
      "text/html": [
       "<div>\n",
       "<style scoped>\n",
       "    .dataframe tbody tr th:only-of-type {\n",
       "        vertical-align: middle;\n",
       "    }\n",
       "\n",
       "    .dataframe tbody tr th {\n",
       "        vertical-align: top;\n",
       "    }\n",
       "\n",
       "    .dataframe thead th {\n",
       "        text-align: right;\n",
       "    }\n",
       "</style>\n",
       "<table border=\"1\" class=\"dataframe\">\n",
       "  <thead>\n",
       "    <tr style=\"text-align: right;\">\n",
       "      <th></th>\n",
       "      <th>I-Gain</th>\n",
       "    </tr>\n",
       "  </thead>\n",
       "  <tbody>\n",
       "    <tr>\n",
       "      <th>flavanoids</th>\n",
       "      <td>0.704646</td>\n",
       "    </tr>\n",
       "    <tr>\n",
       "      <th>proline</th>\n",
       "      <td>0.614764</td>\n",
       "    </tr>\n",
       "    <tr>\n",
       "      <th>color_intensity</th>\n",
       "      <td>0.535434</td>\n",
       "    </tr>\n",
       "    <tr>\n",
       "      <th>od280/od315_of_diluted_wines</th>\n",
       "      <td>0.498046</td>\n",
       "    </tr>\n",
       "    <tr>\n",
       "      <th>hue</th>\n",
       "      <td>0.497069</td>\n",
       "    </tr>\n",
       "    <tr>\n",
       "      <th>total_phenols</th>\n",
       "      <td>0.442139</td>\n",
       "    </tr>\n",
       "    <tr>\n",
       "      <th>alcohol</th>\n",
       "      <td>0.386322</td>\n",
       "    </tr>\n",
       "    <tr>\n",
       "      <th>malic_acid</th>\n",
       "      <td>0.334877</td>\n",
       "    </tr>\n",
       "    <tr>\n",
       "      <th>proanthocyanins</th>\n",
       "      <td>0.236884</td>\n",
       "    </tr>\n",
       "    <tr>\n",
       "      <th>alcalinity_of_ash</th>\n",
       "      <td>0.208526</td>\n",
       "    </tr>\n",
       "    <tr>\n",
       "      <th>magnesium</th>\n",
       "      <td>0.155987</td>\n",
       "    </tr>\n",
       "    <tr>\n",
       "      <th>ash</th>\n",
       "      <td>0.115841</td>\n",
       "    </tr>\n",
       "    <tr>\n",
       "      <th>nonflavanoid_phenols</th>\n",
       "      <td>0.096093</td>\n",
       "    </tr>\n",
       "  </tbody>\n",
       "</table>\n",
       "</div>"
      ],
      "text/plain": [
       "                                I-Gain\n",
       "flavanoids                    0.704646\n",
       "proline                       0.614764\n",
       "color_intensity               0.535434\n",
       "od280/od315_of_diluted_wines  0.498046\n",
       "hue                           0.497069\n",
       "total_phenols                 0.442139\n",
       "alcohol                       0.386322\n",
       "malic_acid                    0.334877\n",
       "proanthocyanins               0.236884\n",
       "alcalinity_of_ash             0.208526\n",
       "magnesium                     0.155987\n",
       "ash                           0.115841\n",
       "nonflavanoid_phenols          0.096093"
      ]
     },
     "execution_count": 10,
     "metadata": {},
     "output_type": "execute_result"
    }
   ],
   "source": [
    "i_scores = mutual_info_classif(X_train_scaled,y_train)\n",
    "\n",
    "# put the i_scores in a dataframe and sort\n",
    "features_info_gain = pd.DataFrame(i_scores,index = X_train_scaled.columns, columns =['I-Gain'])\n",
    "features_info_gain.sort_values(by=['I-Gain'],ascending=False,inplace=True)\n",
    "features_info_gain"
   ]
  },
  {
   "cell_type": "code",
   "execution_count": 11,
   "id": "7a9050ec",
   "metadata": {},
   "outputs": [],
   "source": [
    "# Generate top 50% of the features of the dataframes and produce the corresponding X (numpy) arrays\n",
    "\n",
    "top_50pc_features= X_train_scaled[features_info_gain.index[:int(features_info_gain.shape[0]/2)]]"
   ]
  },
  {
   "cell_type": "code",
   "execution_count": 12,
   "id": "8c0d4785",
   "metadata": {},
   "outputs": [],
   "source": [
    "model = KNeighborsClassifier()"
   ]
  },
  {
   "cell_type": "code",
   "execution_count": 13,
   "id": "38057e02",
   "metadata": {},
   "outputs": [
    {
     "name": "stdout",
     "output_type": "stream",
     "text": [
      "Accuracy of the model trained on the top 50% features:  0.9777777777777777\n"
     ]
    }
   ],
   "source": [
    "model.fit(X_train_scaled, y_train)\n",
    "\n",
    "y_predicted = model.predict(X_test_scaled)\n",
    "print(\"Accuracy of the model trained on the top 50% features: \", accuracy_score(y_test, y_predicted))"
   ]
  },
  {
   "cell_type": "markdown",
   "id": "cf49162d",
   "metadata": {},
   "source": [
    "#### b. IG > 50% of max IG score"
   ]
  },
  {
   "cell_type": "code",
   "execution_count": 14,
   "id": "0876dd82",
   "metadata": {},
   "outputs": [
    {
     "data": {
      "text/html": [
       "<div>\n",
       "<style scoped>\n",
       "    .dataframe tbody tr th:only-of-type {\n",
       "        vertical-align: middle;\n",
       "    }\n",
       "\n",
       "    .dataframe tbody tr th {\n",
       "        vertical-align: top;\n",
       "    }\n",
       "\n",
       "    .dataframe thead th {\n",
       "        text-align: right;\n",
       "    }\n",
       "</style>\n",
       "<table border=\"1\" class=\"dataframe\">\n",
       "  <thead>\n",
       "    <tr style=\"text-align: right;\">\n",
       "      <th></th>\n",
       "      <th>I-Gain</th>\n",
       "    </tr>\n",
       "  </thead>\n",
       "  <tbody>\n",
       "    <tr>\n",
       "      <th>flavanoids</th>\n",
       "      <td>0.704646</td>\n",
       "    </tr>\n",
       "    <tr>\n",
       "      <th>proline</th>\n",
       "      <td>0.614764</td>\n",
       "    </tr>\n",
       "    <tr>\n",
       "      <th>color_intensity</th>\n",
       "      <td>0.535434</td>\n",
       "    </tr>\n",
       "    <tr>\n",
       "      <th>od280/od315_of_diluted_wines</th>\n",
       "      <td>0.498046</td>\n",
       "    </tr>\n",
       "    <tr>\n",
       "      <th>hue</th>\n",
       "      <td>0.497069</td>\n",
       "    </tr>\n",
       "    <tr>\n",
       "      <th>total_phenols</th>\n",
       "      <td>0.442139</td>\n",
       "    </tr>\n",
       "    <tr>\n",
       "      <th>alcohol</th>\n",
       "      <td>0.386322</td>\n",
       "    </tr>\n",
       "  </tbody>\n",
       "</table>\n",
       "</div>"
      ],
      "text/plain": [
       "                                I-Gain\n",
       "flavanoids                    0.704646\n",
       "proline                       0.614764\n",
       "color_intensity               0.535434\n",
       "od280/od315_of_diluted_wines  0.498046\n",
       "hue                           0.497069\n",
       "total_phenols                 0.442139\n",
       "alcohol                       0.386322"
      ]
     },
     "execution_count": 14,
     "metadata": {},
     "output_type": "execute_result"
    }
   ],
   "source": [
    "features_IG_above_50pc = features_info_gain[features_info_gain['I-Gain'] > (features_info_gain['I-Gain'].max() * 0.5)]\n",
    "features_IG_above_50pc"
   ]
  },
  {
   "cell_type": "code",
   "execution_count": 15,
   "id": "53ec515a",
   "metadata": {},
   "outputs": [],
   "source": [
    "top_IG_features_train = X_train_scaled[features_IG_above_50pc.index]\n",
    "top_IG_features_test = X_test_scaled[features_IG_above_50pc.index]"
   ]
  },
  {
   "cell_type": "code",
   "execution_count": 16,
   "id": "7d801db9",
   "metadata": {},
   "outputs": [
    {
     "name": "stdout",
     "output_type": "stream",
     "text": [
      "Accuracy of the model trained on the top 50% features:  0.9777777777777777\n"
     ]
    }
   ],
   "source": [
    "model.fit(X_train_scaled, y_train)\n",
    "\n",
    "y_predicted = model.predict(X_test_scaled)\n",
    "print(\"Accuracy of the model trained on the top 50% features: \", accuracy_score(y_test, y_predicted))"
   ]
  },
  {
   "cell_type": "markdown",
   "id": "0b1b05d0",
   "metadata": {},
   "source": [
    "We observe that features with IG > 50% of max IG score yield maximum accuracy score of the three conditions (top k features, top 50% of features and features with IG > 50% of max IG) considered. "
   ]
  },
  {
   "cell_type": "markdown",
   "id": "5905477b",
   "metadata": {},
   "source": [
    "**2. Choose the top features for k-NN using the chi-sq statistics and SelectKBest**"
   ]
  },
  {
   "cell_type": "code",
   "execution_count": 17,
   "id": "8f81a01a",
   "metadata": {},
   "outputs": [
    {
     "name": "stdout",
     "output_type": "stream",
     "text": [
      "Accuracy of the model trained on features selected using chi-sq:  0.6666666666666666\n"
     ]
    }
   ],
   "source": [
    "# using X instead of X_transformed as fit_transform expects the values of X to be non-negative.\n",
    "kbest = SelectKBest(chi2, k=3)\n",
    "X_train_kbest = kbest.fit_transform(X_train, y_train)\n",
    "X_test_kbest = kbest.transform(X_test)\n",
    "\n",
    "model.fit(X_train_kbest, y_train)\n",
    "\n",
    "y_predicted = model.predict(X_test_kbest)\n",
    "print(\"Accuracy of the model trained on features selected using chi-sq: \", accuracy_score(y_test, y_predicted))"
   ]
  },
  {
   "cell_type": "markdown",
   "id": "3b88436d",
   "metadata": {},
   "source": [
    "#### Tutorial 4A (Part B): \n",
    "\n",
    "**1. Perform sequential backward selection.**"
   ]
  },
  {
   "cell_type": "code",
   "execution_count": 18,
   "id": "a4094216",
   "metadata": {},
   "outputs": [],
   "source": [
    "from mlxtend.feature_selection import SequentialFeatureSelector as SFS\n",
    "from mlxtend.plotting import plot_sequential_feature_selection as plot_sfs\n",
    "knn = KNeighborsClassifier(n_neighbors=5)"
   ]
  },
  {
   "cell_type": "code",
   "execution_count": 19,
   "id": "8ac7c898",
   "metadata": {},
   "outputs": [],
   "source": [
    "sfs_backward = SFS(knn, \n",
    "                  k_features=\"best\", \n",
    "                  forward=False, \n",
    "                  floating=False,\n",
    "                  scoring='accuracy',\n",
    "                  cv=5)\n",
    "\n",
    "# try the sfs_forward model on the \n",
    "sfs_backward = sfs_backward.fit(X_train_scaled, y_train)"
   ]
  },
  {
   "cell_type": "code",
   "execution_count": 20,
   "id": "fa489121",
   "metadata": {},
   "outputs": [
    {
     "data": {
      "image/png": "[encoded data removed]",
      "text/plain": [
       "<Figure size 432x288 with 1 Axes>"
      ]
     },
     "metadata": {
      "needs_background": "light"
     },
     "output_type": "display_data"
    },
    {
     "name": "stdout",
     "output_type": "stream",
     "text": [
      "('alcohol', 'flavanoids', 'color_intensity', 'proline')\n"
     ]
    }
   ],
   "source": [
    "from mlxtend.plotting import plot_sequential_feature_selection as plot_sfs\n",
    "import matplotlib.pyplot as plt\n",
    "\n",
    "fig1 = plot_sfs(sfs_backward.get_metric_dict(), ylabel='Accuracy')\n",
    "\n",
    "plt.ylim([0, 1])\n",
    "plt.title('Sequential Backward Selection (w. StdDev)')\n",
    "plt.grid()\n",
    "plt.show()\n",
    "print(sfs_backward.k_feature_names_)"
   ]
  },
  {
   "cell_type": "code",
   "execution_count": 21,
   "id": "23ec4221",
   "metadata": {},
   "outputs": [
    {
     "data": {
      "text/html": [
       "<div>\n",
       "<style scoped>\n",
       "    .dataframe tbody tr th:only-of-type {\n",
       "        vertical-align: middle;\n",
       "    }\n",
       "\n",
       "    .dataframe tbody tr th {\n",
       "        vertical-align: top;\n",
       "    }\n",
       "\n",
       "    .dataframe thead th {\n",
       "        text-align: right;\n",
       "    }\n",
       "</style>\n",
       "<table border=\"1\" class=\"dataframe\">\n",
       "  <thead>\n",
       "    <tr style=\"text-align: right;\">\n",
       "      <th></th>\n",
       "      <th>feature_idx</th>\n",
       "      <th>cv_scores</th>\n",
       "      <th>avg_score</th>\n",
       "      <th>feature_names</th>\n",
       "      <th>ci_bound</th>\n",
       "      <th>std_dev</th>\n",
       "      <th>std_err</th>\n",
       "    </tr>\n",
       "  </thead>\n",
       "  <tbody>\n",
       "    <tr>\n",
       "      <th>13</th>\n",
       "      <td>(0, 1, 2, 3, 4, 5, 6, 7, 8, 9, 10, 11, 12)</td>\n",
       "      <td>[0.9629629629629629, 0.8888888888888888, 0.962...</td>\n",
       "      <td>0.955271</td>\n",
       "      <td>(alcohol, malic_acid, ash, alcalinity_of_ash, ...</td>\n",
       "      <td>0.0465725</td>\n",
       "      <td>0.036235</td>\n",
       "      <td>0.0181175</td>\n",
       "    </tr>\n",
       "    <tr>\n",
       "      <th>12</th>\n",
       "      <td>(0, 1, 2, 3, 5, 6, 7, 8, 9, 10, 11, 12)</td>\n",
       "      <td>[1.0, 0.9259259259259259, 0.9629629629629629, ...</td>\n",
       "      <td>0.970085</td>\n",
       "      <td>(alcohol, malic_acid, ash, alcalinity_of_ash, ...</td>\n",
       "      <td>0.0357283</td>\n",
       "      <td>0.0277979</td>\n",
       "      <td>0.0138989</td>\n",
       "    </tr>\n",
       "    <tr>\n",
       "      <th>11</th>\n",
       "      <td>(0, 1, 2, 3, 6, 7, 8, 9, 10, 11, 12)</td>\n",
       "      <td>[1.0, 0.9629629629629629, 0.9629629629629629, ...</td>\n",
       "      <td>0.977493</td>\n",
       "      <td>(alcohol, malic_acid, ash, alcalinity_of_ash, ...</td>\n",
       "      <td>0.0236292</td>\n",
       "      <td>0.0183843</td>\n",
       "      <td>0.00919217</td>\n",
       "    </tr>\n",
       "    <tr>\n",
       "      <th>10</th>\n",
       "      <td>(0, 1, 2, 3, 6, 7, 8, 9, 10, 12)</td>\n",
       "      <td>[1.0, 0.9629629629629629, 0.9629629629629629, ...</td>\n",
       "      <td>0.977493</td>\n",
       "      <td>(alcohol, malic_acid, ash, alcalinity_of_ash, ...</td>\n",
       "      <td>0.0236292</td>\n",
       "      <td>0.0183843</td>\n",
       "      <td>0.00919217</td>\n",
       "    </tr>\n",
       "    <tr>\n",
       "      <th>9</th>\n",
       "      <td>(0, 1, 2, 6, 7, 8, 9, 10, 12)</td>\n",
       "      <td>[1.0, 1.0, 0.9629629629629629, 1.0, 0.96153846...</td>\n",
       "      <td>0.9849</td>\n",
       "      <td>(alcohol, malic_acid, ash, flavanoids, nonflav...</td>\n",
       "      <td>0.0237763</td>\n",
       "      <td>0.0184988</td>\n",
       "      <td>0.00924939</td>\n",
       "    </tr>\n",
       "    <tr>\n",
       "      <th>8</th>\n",
       "      <td>(0, 1, 6, 7, 8, 9, 10, 12)</td>\n",
       "      <td>[0.9629629629629629, 0.9629629629629629, 0.962...</td>\n",
       "      <td>0.977778</td>\n",
       "      <td>(alcohol, malic_acid, flavanoids, nonflavanoid...</td>\n",
       "      <td>0.0233208</td>\n",
       "      <td>0.0181444</td>\n",
       "      <td>0.00907218</td>\n",
       "    </tr>\n",
       "    <tr>\n",
       "      <th>7</th>\n",
       "      <td>(0, 1, 6, 7, 9, 10, 12)</td>\n",
       "      <td>[0.9629629629629629, 0.9629629629629629, 0.962...</td>\n",
       "      <td>0.977778</td>\n",
       "      <td>(alcohol, malic_acid, flavanoids, nonflavanoid...</td>\n",
       "      <td>0.0233208</td>\n",
       "      <td>0.0181444</td>\n",
       "      <td>0.00907218</td>\n",
       "    </tr>\n",
       "    <tr>\n",
       "      <th>6</th>\n",
       "      <td>(0, 1, 6, 7, 9, 12)</td>\n",
       "      <td>[0.9629629629629629, 1.0, 0.9629629629629629, ...</td>\n",
       "      <td>0.985185</td>\n",
       "      <td>(alcohol, malic_acid, flavanoids, nonflavanoid...</td>\n",
       "      <td>0.0233208</td>\n",
       "      <td>0.0181444</td>\n",
       "      <td>0.00907218</td>\n",
       "    </tr>\n",
       "    <tr>\n",
       "      <th>5</th>\n",
       "      <td>(0, 1, 6, 9, 12)</td>\n",
       "      <td>[1.0, 0.9629629629629629, 0.9629629629629629, ...</td>\n",
       "      <td>0.985185</td>\n",
       "      <td>(alcohol, malic_acid, flavanoids, color_intens...</td>\n",
       "      <td>0.0233208</td>\n",
       "      <td>0.0181444</td>\n",
       "      <td>0.00907218</td>\n",
       "    </tr>\n",
       "    <tr>\n",
       "      <th>4</th>\n",
       "      <td>(0, 6, 9, 12)</td>\n",
       "      <td>[1.0, 1.0, 1.0, 1.0, 1.0]</td>\n",
       "      <td>1</td>\n",
       "      <td>(alcohol, flavanoids, color_intensity, proline)</td>\n",
       "      <td>0</td>\n",
       "      <td>0</td>\n",
       "      <td>0</td>\n",
       "    </tr>\n",
       "    <tr>\n",
       "      <th>3</th>\n",
       "      <td>(6, 9, 12)</td>\n",
       "      <td>[0.9629629629629629, 0.9629629629629629, 1.0, ...</td>\n",
       "      <td>0.985185</td>\n",
       "      <td>(flavanoids, color_intensity, proline)</td>\n",
       "      <td>0.0233208</td>\n",
       "      <td>0.0181444</td>\n",
       "      <td>0.00907218</td>\n",
       "    </tr>\n",
       "    <tr>\n",
       "      <th>2</th>\n",
       "      <td>(6, 9)</td>\n",
       "      <td>[0.9629629629629629, 0.9629629629629629, 0.962...</td>\n",
       "      <td>0.939316</td>\n",
       "      <td>(flavanoids, color_intensity)</td>\n",
       "      <td>0.0403729</td>\n",
       "      <td>0.0314115</td>\n",
       "      <td>0.0157057</td>\n",
       "    </tr>\n",
       "    <tr>\n",
       "      <th>1</th>\n",
       "      <td>(6,)</td>\n",
       "      <td>[0.8888888888888888, 0.8148148148148148, 0.666...</td>\n",
       "      <td>0.781766</td>\n",
       "      <td>(flavanoids,)</td>\n",
       "      <td>0.0929145</td>\n",
       "      <td>0.0722906</td>\n",
       "      <td>0.0361453</td>\n",
       "    </tr>\n",
       "  </tbody>\n",
       "</table>\n",
       "</div>"
      ],
      "text/plain": [
       "                                   feature_idx  \\\n",
       "13  (0, 1, 2, 3, 4, 5, 6, 7, 8, 9, 10, 11, 12)   \n",
       "12     (0, 1, 2, 3, 5, 6, 7, 8, 9, 10, 11, 12)   \n",
       "11        (0, 1, 2, 3, 6, 7, 8, 9, 10, 11, 12)   \n",
       "10            (0, 1, 2, 3, 6, 7, 8, 9, 10, 12)   \n",
       "9                (0, 1, 2, 6, 7, 8, 9, 10, 12)   \n",
       "8                   (0, 1, 6, 7, 8, 9, 10, 12)   \n",
       "7                      (0, 1, 6, 7, 9, 10, 12)   \n",
       "6                          (0, 1, 6, 7, 9, 12)   \n",
       "5                             (0, 1, 6, 9, 12)   \n",
       "4                                (0, 6, 9, 12)   \n",
       "3                                   (6, 9, 12)   \n",
       "2                                       (6, 9)   \n",
       "1                                         (6,)   \n",
       "\n",
       "                                            cv_scores avg_score  \\\n",
       "13  [0.9629629629629629, 0.8888888888888888, 0.962...  0.955271   \n",
       "12  [1.0, 0.9259259259259259, 0.9629629629629629, ...  0.970085   \n",
       "11  [1.0, 0.9629629629629629, 0.9629629629629629, ...  0.977493   \n",
       "10  [1.0, 0.9629629629629629, 0.9629629629629629, ...  0.977493   \n",
       "9   [1.0, 1.0, 0.9629629629629629, 1.0, 0.96153846...    0.9849   \n",
       "8   [0.9629629629629629, 0.9629629629629629, 0.962...  0.977778   \n",
       "7   [0.9629629629629629, 0.9629629629629629, 0.962...  0.977778   \n",
       "6   [0.9629629629629629, 1.0, 0.9629629629629629, ...  0.985185   \n",
       "5   [1.0, 0.9629629629629629, 0.9629629629629629, ...  0.985185   \n",
       "4                           [1.0, 1.0, 1.0, 1.0, 1.0]         1   \n",
       "3   [0.9629629629629629, 0.9629629629629629, 1.0, ...  0.985185   \n",
       "2   [0.9629629629629629, 0.9629629629629629, 0.962...  0.939316   \n",
       "1   [0.8888888888888888, 0.8148148148148148, 0.666...  0.781766   \n",
       "\n",
       "                                        feature_names   ci_bound    std_dev  \\\n",
       "13  (alcohol, malic_acid, ash, alcalinity_of_ash, ...  0.0465725   0.036235   \n",
       "12  (alcohol, malic_acid, ash, alcalinity_of_ash, ...  0.0357283  0.0277979   \n",
       "11  (alcohol, malic_acid, ash, alcalinity_of_ash, ...  0.0236292  0.0183843   \n",
       "10  (alcohol, malic_acid, ash, alcalinity_of_ash, ...  0.0236292  0.0183843   \n",
       "9   (alcohol, malic_acid, ash, flavanoids, nonflav...  0.0237763  0.0184988   \n",
       "8   (alcohol, malic_acid, flavanoids, nonflavanoid...  0.0233208  0.0181444   \n",
       "7   (alcohol, malic_acid, flavanoids, nonflavanoid...  0.0233208  0.0181444   \n",
       "6   (alcohol, malic_acid, flavanoids, nonflavanoid...  0.0233208  0.0181444   \n",
       "5   (alcohol, malic_acid, flavanoids, color_intens...  0.0233208  0.0181444   \n",
       "4     (alcohol, flavanoids, color_intensity, proline)          0          0   \n",
       "3              (flavanoids, color_intensity, proline)  0.0233208  0.0181444   \n",
       "2                       (flavanoids, color_intensity)  0.0403729  0.0314115   \n",
       "1                                       (flavanoids,)  0.0929145  0.0722906   \n",
       "\n",
       "       std_err  \n",
       "13   0.0181175  \n",
       "12   0.0138989  \n",
       "11  0.00919217  \n",
       "10  0.00919217  \n",
       "9   0.00924939  \n",
       "8   0.00907218  \n",
       "7   0.00907218  \n",
       "6   0.00907218  \n",
       "5   0.00907218  \n",
       "4            0  \n",
       "3   0.00907218  \n",
       "2    0.0157057  \n",
       "1    0.0361453  "
      ]
     },
     "execution_count": 21,
     "metadata": {},
     "output_type": "execute_result"
    }
   ],
   "source": [
    "pd.DataFrame.from_dict(sfs_backward.get_metric_dict()).T"
   ]
  },
  {
   "cell_type": "markdown",
   "id": "7ac073d5",
   "metadata": {},
   "source": [
    "**2. Select cv = 10 and k_features = 7 for sequential forward selection and sequential backward selection. Identify the common features from feature set with highest accuracy score in each case.**"
   ]
  },
  {
   "cell_type": "code",
   "execution_count": 22,
   "id": "0b3c2055",
   "metadata": {},
   "outputs": [],
   "source": [
    "knn = KNeighborsClassifier(n_neighbors=5)"
   ]
  },
  {
   "cell_type": "code",
   "execution_count": 23,
   "id": "56f48e90",
   "metadata": {},
   "outputs": [],
   "source": [
    "sfs_forward = SFS(knn, k_features=7,  forward=True, floating=False, scoring='accuracy', cv=10)\n",
    "\n",
    "# try the sfs_forward model on the \n",
    "sfs_forward = sfs_forward.fit(pd.concat([X_train_scaled, X_test_scaled]), pd.concat([y_train, y_test]))"
   ]
  },
  {
   "cell_type": "code",
   "execution_count": 24,
   "id": "3769f8dd",
   "metadata": {},
   "outputs": [],
   "source": [
    "sfs_backward = SFS(knn, k_features=7, forward=True, floating=False, scoring='accuracy', cv=10)\n",
    "\n",
    "# try the sfs_forward model on the \n",
    "sfs_backward = sfs_backward.fit(pd.concat([X_train_scaled, X_test_scaled]), pd.concat([y_train, y_test]))"
   ]
  },
  {
   "cell_type": "code",
   "execution_count": 25,
   "id": "0382208a",
   "metadata": {},
   "outputs": [
    {
     "name": "stdout",
     "output_type": "stream",
     "text": [
      "Backward SFS Features:  ('alcohol', 'malic_acid', 'magnesium', 'total_phenols', 'flavanoids', 'hue', 'proline')\n",
      "\n",
      "Forward SFS Features:  ('alcohol', 'malic_acid', 'magnesium', 'total_phenols', 'flavanoids', 'hue', 'proline')\n",
      "\n",
      "Common features:  {'magnesium', 'flavanoids', 'alcohol', 'hue', 'proline', 'malic_acid', 'total_phenols'}\n"
     ]
    }
   ],
   "source": [
    "b5_feat = sfs_backward.k_feature_names_\n",
    "f5_feat = sfs_forward.k_feature_names_\n",
    "print('Backward SFS Features: ', b5_feat)\n",
    "print('\\nForward SFS Features: ', f5_feat)\n",
    "print('\\nCommon features: ', (set(b5_feat).intersection(set(f5_feat))))"
   ]
  },
  {
   "cell_type": "markdown",
   "id": "d4af70d2",
   "metadata": {},
   "source": [
    "**Note:** Both forward and bakward sequential feature selection has chosen the same features. But, this might not necessarily be the case for other datasets "
   ]
  },
  {
   "cell_type": "markdown",
   "id": "7e065760",
   "metadata": {},
   "source": [
    "#### Tutorial 4B : "
   ]
  },
  {
   "cell_type": "markdown",
   "id": "f04be78d",
   "metadata": {},
   "source": [
    "**1. Load the wine dataset. Perform PCA. How much of the variance is explained by the first 3 principal components?**"
   ]
  },
  {
   "cell_type": "code",
   "execution_count": 26,
   "id": "0f0994bf",
   "metadata": {},
   "outputs": [
    {
     "name": "stdout",
     "output_type": "stream",
     "text": [
      "Variance explained by each of the principal components:  [0.35623588 0.19406282 0.11367336 0.07738114]\n"
     ]
    }
   ],
   "source": [
    "#Normalize the input features\n",
    "scaler = StandardScaler()\n",
    "X_train_scaled = scaler.fit_transform(X_train)\n",
    "X_test_scaled = scaler.transform(X_test)\n",
    "\n",
    "pca = PCA(n_components=4)\n",
    "X_train_transformed = pca.fit(X_train_scaled).transform(X_train_scaled)\n",
    "X_test_transformed = pca.transform(X_test_scaled)\n",
    "\n",
    "# Proportion of variance explained for each components\n",
    "print(\"Variance explained by each of the principal components: \", pca.explained_variance_ratio_)"
   ]
  },
  {
   "cell_type": "code",
   "execution_count": 27,
   "id": "4a898190",
   "metadata": {},
   "outputs": [
    {
     "data": {
      "image/png": "[encoded data removed]",
      "text/plain": [
       "<Figure size 360x288 with 1 Axes>"
      ]
     },
     "metadata": {
      "needs_background": "light"
     },
     "output_type": "display_data"
    }
   ],
   "source": [
    "df = pd.DataFrame(pca.explained_variance_ratio_, \n",
    "                  index=['PC1','PC2','PC3','PC4'],columns =['var'])\n",
    "\n",
    "plot = df.plot.bar(figsize=(5,4), color='#56B4E9', rot=0)\n",
    "plot.set_ylabel(\"Variance Explained\")\n",
    "plot.set_ylim([0,0.8])\n",
    "plot.get_legend().remove();"
   ]
  },
  {
   "cell_type": "markdown",
   "id": "c325d259",
   "metadata": {},
   "source": [
    "The variance explained by the first 3 principal components are ~36%, 19% and 11%"
   ]
  },
  {
   "cell_type": "code",
   "execution_count": 28,
   "id": "e56c1661",
   "metadata": {},
   "outputs": [
    {
     "data": {
      "image/png": "[encoded data removed]",
      "text/plain": [
       "<Figure size 432x288 with 1 Axes>"
      ]
     },
     "metadata": {
      "needs_background": "light"
     },
     "output_type": "display_data"
    }
   ],
   "source": [
    "plt.figure()\n",
    "colors = ['#E69F00', '#56B4E9', '#009E73']\n",
    "lw = 2\n",
    "\n",
    "for color, i, target_name in zip(colors, [0, 1, 2], wine.target_names):\n",
    "    plt.scatter(X_train_scaled[y_train == i, 0], \n",
    "                X_train_scaled[y_train == i, 1], color=color, alpha=.8, lw=lw,\n",
    "                label=target_name)\n",
    "plt.legend(loc='best', shadow=False, scatterpoints=1)\n",
    "plt.xlabel('PC1 (36%)')\n",
    "plt.ylabel('PC2 (19%)')\n",
    "plt.title('PCA of Wine dataset')\n",
    "\n",
    "plt.show()"
   ]
  },
  {
   "cell_type": "markdown",
   "id": "14124510",
   "metadata": {},
   "source": [
    "**2. What is the accuracy of the KNeighborsClassifier on the transformed data? How does it compare to the accuracy obtained through feature selection?**"
   ]
  },
  {
   "cell_type": "code",
   "execution_count": 29,
   "id": "cca39ae2",
   "metadata": {},
   "outputs": [
    {
     "data": {
      "text/plain": [
       "0.9777777777777777"
      ]
     },
     "execution_count": 29,
     "metadata": {},
     "output_type": "execute_result"
    }
   ],
   "source": [
    "knn_model = KNeighborsClassifier()\n",
    "\n",
    "knn_model.fit(X_train_scaled, y_train)\n",
    "y_predicted = knn_model.predict(X_test_scaled)\n",
    "accuracy_score(y_predicted, y_test)"
   ]
  },
  {
   "cell_type": "markdown",
   "id": "c02b7d87",
   "metadata": {},
   "source": [
    "**Summary of the accuracy obtained through different methods of dimensionality reduction on wine dataset:**"
   ]
  },
  {
   "cell_type": "markdown",
   "id": "a8c07b91",
   "metadata": {},
   "source": [
    "top 3 features chosen from IG : 93.33% (in tutorial 4A)                    \n",
    "top 50% of the features based on IG : 97.7%         \n",
    "IG > 0.5*(max IG) : 97.7%             \n",
    "                 \n",
    "top 3 features chosen from chi-sq : 66.66%                  \n",
    "         \n",
    "PCA : 97.7%             \n",
    "        \n",
    "Overall, IG > 0.5*(max IG), IG > 0.5*(max IG) and PCA gave the best accuracy of the model on wine dataset.         \n",
    "         \n",
    "**Note:** Not considering wrapper methods as evaluation was based on cross-validation which will be discussed in the next week. \n"
   ]
  }
 ],
 "metadata": {
  "kernelspec": {
   "display_name": "Python 3",
   "language": "python",
   "name": "python3"
  },
  "language_info": {
   "codemirror_mode": {
    "name": "ipython",
    "version": 3
   },
   "file_extension": ".py",
   "mimetype": "text/x-python",
   "name": "python",
   "nbconvert_exporter": "python",
   "pygments_lexer": "ipython3",
   "version": "3.8.5"
  }
 },
 "nbformat": 4,
 "nbformat_minor": 5
}
