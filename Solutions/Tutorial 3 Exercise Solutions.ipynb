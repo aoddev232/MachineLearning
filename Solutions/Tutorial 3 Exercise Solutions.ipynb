{
 "cells": [
  {
   "cell_type": "markdown",
   "id": "528304e2",
   "metadata": {},
   "source": [
    "## Week 3 : SVM classifier exercise solutions"
   ]
  },
  {
   "cell_type": "markdown",
   "id": "dc6a8ae4",
   "metadata": {},
   "source": [
    "#### Import Packages"
   ]
  },
  {
   "cell_type": "code",
   "execution_count": 1,
   "id": "85acfa83",
   "metadata": {},
   "outputs": [],
   "source": [
    "import pandas as pd \n",
    "import numpy as np \n",
    "\n",
    "from sklearn.svm import SVC\n",
    "from sklearn.metrics import accuracy_score\n",
    "from sklearn.model_selection import train_test_split"
   ]
  },
  {
   "cell_type": "markdown",
   "id": "97e3706b",
   "metadata": {},
   "source": [
    "#### Load data "
   ]
  },
  {
   "cell_type": "code",
   "execution_count": 2,
   "id": "dd6ec928",
   "metadata": {},
   "outputs": [
    {
     "name": "stdout",
     "output_type": "stream",
     "text": [
      "Dimensions:  (7352, 563)\n"
     ]
    },
    {
     "data": {
      "text/html": [
       "<div>\n",
       "<style scoped>\n",
       "    .dataframe tbody tr th:only-of-type {\n",
       "        vertical-align: middle;\n",
       "    }\n",
       "\n",
       "    .dataframe tbody tr th {\n",
       "        vertical-align: top;\n",
       "    }\n",
       "\n",
       "    .dataframe thead th {\n",
       "        text-align: right;\n",
       "    }\n",
       "</style>\n",
       "<table border=\"1\" class=\"dataframe\">\n",
       "  <thead>\n",
       "    <tr style=\"text-align: right;\">\n",
       "      <th></th>\n",
       "      <th>tBodyAcc-mean()-X</th>\n",
       "      <th>tBodyAcc-mean()-Y</th>\n",
       "      <th>tBodyAcc-mean()-Z</th>\n",
       "      <th>tBodyAcc-std()-X</th>\n",
       "      <th>tBodyAcc-std()-Y</th>\n",
       "      <th>tBodyAcc-std()-Z</th>\n",
       "      <th>tBodyAcc-mad()-X</th>\n",
       "      <th>tBodyAcc-mad()-Y</th>\n",
       "      <th>tBodyAcc-mad()-Z</th>\n",
       "      <th>tBodyAcc-max()-X</th>\n",
       "      <th>...</th>\n",
       "      <th>fBodyBodyGyroJerkMag-kurtosis()</th>\n",
       "      <th>angle(tBodyAccMean,gravity)</th>\n",
       "      <th>angle(tBodyAccJerkMean),gravityMean)</th>\n",
       "      <th>angle(tBodyGyroMean,gravityMean)</th>\n",
       "      <th>angle(tBodyGyroJerkMean,gravityMean)</th>\n",
       "      <th>angle(X,gravityMean)</th>\n",
       "      <th>angle(Y,gravityMean)</th>\n",
       "      <th>angle(Z,gravityMean)</th>\n",
       "      <th>subject</th>\n",
       "      <th>Activity</th>\n",
       "    </tr>\n",
       "  </thead>\n",
       "  <tbody>\n",
       "    <tr>\n",
       "      <th>0</th>\n",
       "      <td>0.288585</td>\n",
       "      <td>-0.020294</td>\n",
       "      <td>-0.132905</td>\n",
       "      <td>-0.995279</td>\n",
       "      <td>-0.983111</td>\n",
       "      <td>-0.913526</td>\n",
       "      <td>-0.995112</td>\n",
       "      <td>-0.983185</td>\n",
       "      <td>-0.923527</td>\n",
       "      <td>-0.934724</td>\n",
       "      <td>...</td>\n",
       "      <td>-0.710304</td>\n",
       "      <td>-0.112754</td>\n",
       "      <td>0.030400</td>\n",
       "      <td>-0.464761</td>\n",
       "      <td>-0.018446</td>\n",
       "      <td>-0.841247</td>\n",
       "      <td>0.179941</td>\n",
       "      <td>-0.058627</td>\n",
       "      <td>1</td>\n",
       "      <td>STANDING</td>\n",
       "    </tr>\n",
       "    <tr>\n",
       "      <th>1</th>\n",
       "      <td>0.278419</td>\n",
       "      <td>-0.016411</td>\n",
       "      <td>-0.123520</td>\n",
       "      <td>-0.998245</td>\n",
       "      <td>-0.975300</td>\n",
       "      <td>-0.960322</td>\n",
       "      <td>-0.998807</td>\n",
       "      <td>-0.974914</td>\n",
       "      <td>-0.957686</td>\n",
       "      <td>-0.943068</td>\n",
       "      <td>...</td>\n",
       "      <td>-0.861499</td>\n",
       "      <td>0.053477</td>\n",
       "      <td>-0.007435</td>\n",
       "      <td>-0.732626</td>\n",
       "      <td>0.703511</td>\n",
       "      <td>-0.844788</td>\n",
       "      <td>0.180289</td>\n",
       "      <td>-0.054317</td>\n",
       "      <td>1</td>\n",
       "      <td>STANDING</td>\n",
       "    </tr>\n",
       "  </tbody>\n",
       "</table>\n",
       "<p>2 rows × 563 columns</p>\n",
       "</div>"
      ],
      "text/plain": [
       "   tBodyAcc-mean()-X  tBodyAcc-mean()-Y  tBodyAcc-mean()-Z  tBodyAcc-std()-X  \\\n",
       "0           0.288585          -0.020294          -0.132905         -0.995279   \n",
       "1           0.278419          -0.016411          -0.123520         -0.998245   \n",
       "\n",
       "   tBodyAcc-std()-Y  tBodyAcc-std()-Z  tBodyAcc-mad()-X  tBodyAcc-mad()-Y  \\\n",
       "0         -0.983111         -0.913526         -0.995112         -0.983185   \n",
       "1         -0.975300         -0.960322         -0.998807         -0.974914   \n",
       "\n",
       "   tBodyAcc-mad()-Z  tBodyAcc-max()-X  ...  fBodyBodyGyroJerkMag-kurtosis()  \\\n",
       "0         -0.923527         -0.934724  ...                        -0.710304   \n",
       "1         -0.957686         -0.943068  ...                        -0.861499   \n",
       "\n",
       "   angle(tBodyAccMean,gravity)  angle(tBodyAccJerkMean),gravityMean)  \\\n",
       "0                    -0.112754                              0.030400   \n",
       "1                     0.053477                             -0.007435   \n",
       "\n",
       "   angle(tBodyGyroMean,gravityMean)  angle(tBodyGyroJerkMean,gravityMean)  \\\n",
       "0                         -0.464761                             -0.018446   \n",
       "1                         -0.732626                              0.703511   \n",
       "\n",
       "   angle(X,gravityMean)  angle(Y,gravityMean)  angle(Z,gravityMean)  subject  \\\n",
       "0             -0.841247              0.179941             -0.058627        1   \n",
       "1             -0.844788              0.180289             -0.054317        1   \n",
       "\n",
       "   Activity  \n",
       "0  STANDING  \n",
       "1  STANDING  \n",
       "\n",
       "[2 rows x 563 columns]"
      ]
     },
     "execution_count": 2,
     "metadata": {},
     "output_type": "execute_result"
    }
   ],
   "source": [
    "data = pd.read_csv('human_activity_recognition.csv')\n",
    "print(\"Dimensions: \", data.shape)\n",
    "data[:2]"
   ]
  },
  {
   "cell_type": "code",
   "execution_count": 3,
   "id": "66b66984",
   "metadata": {},
   "outputs": [
    {
     "data": {
      "text/plain": [
       "Index(['tBodyAcc-mean()-X', 'tBodyAcc-mean()-Y', 'tBodyAcc-mean()-Z',\n",
       "       'tBodyAcc-std()-X', 'tBodyAcc-std()-Y', 'tBodyAcc-std()-Z',\n",
       "       'tBodyAcc-mad()-X', 'tBodyAcc-mad()-Y', 'tBodyAcc-mad()-Z',\n",
       "       'tBodyAcc-max()-X',\n",
       "       ...\n",
       "       'fBodyBodyGyroJerkMag-kurtosis()', 'angle(tBodyAccMean,gravity)',\n",
       "       'angle(tBodyAccJerkMean),gravityMean)',\n",
       "       'angle(tBodyGyroMean,gravityMean)',\n",
       "       'angle(tBodyGyroJerkMean,gravityMean)', 'angle(X,gravityMean)',\n",
       "       'angle(Y,gravityMean)', 'angle(Z,gravityMean)', 'subject', 'Activity'],\n",
       "      dtype='object', length=563)"
      ]
     },
     "execution_count": 3,
     "metadata": {},
     "output_type": "execute_result"
    }
   ],
   "source": [
    "data.columns"
   ]
  },
  {
   "cell_type": "code",
   "execution_count": 4,
   "id": "f7a95fc2",
   "metadata": {},
   "outputs": [
    {
     "data": {
      "text/plain": [
       "array(['tBodyAcc', 'tGravityAcc', 'tBodyAccJerk', 'tBodyGyro',\n",
       "       'tBodyGyroJerk', 'tBodyAccMag', 'tGravityAccMag',\n",
       "       'tBodyAccJerkMag', 'tBodyGyroMag', 'tBodyGyroJerkMag', 'fBodyAcc',\n",
       "       'fBodyAccJerk', 'fBodyGyro', 'fBodyAccMag', 'fBodyBodyAccJerkMag',\n",
       "       'fBodyBodyGyroMag', 'fBodyBodyGyroJerkMag',\n",
       "       'angle(tBodyAccMean,gravity)',\n",
       "       'angle(tBodyAccJerkMean),gravityMean)',\n",
       "       'angle(tBodyGyroMean,gravityMean)',\n",
       "       'angle(tBodyGyroJerkMean,gravityMean)', 'angle(X,gravityMean)',\n",
       "       'angle(Y,gravityMean)', 'angle(Z,gravityMean)', 'subject',\n",
       "       'Activity'], dtype=object)"
      ]
     },
     "execution_count": 4,
     "metadata": {},
     "output_type": "execute_result"
    }
   ],
   "source": [
    "# Find the unique columns by splitting the columns based on '-'\n",
    "pd.unique(data.columns.str.split('-').str[0])"
   ]
  },
  {
   "cell_type": "markdown",
   "id": "b79242b7",
   "metadata": {},
   "source": [
    "### Exploratory Data Analysis"
   ]
  },
  {
   "cell_type": "code",
   "execution_count": 5,
   "id": "13e86b44",
   "metadata": {},
   "outputs": [
    {
     "data": {
      "text/plain": [
       "<AxesSubplot:>"
      ]
     },
     "execution_count": 5,
     "metadata": {},
     "output_type": "execute_result"
    },
    {
     "data": {
      "image/png": "[encoded data removed]",
      "text/plain": [
       "<Figure size 432x288 with 1 Axes>"
      ]
     },
     "metadata": {
      "needs_background": "light"
     },
     "output_type": "display_data"
    }
   ],
   "source": [
    "data[\"Activity\"].value_counts().plot(kind='barh')"
   ]
  },
  {
   "cell_type": "markdown",
   "id": "8a750976",
   "metadata": {},
   "source": [
    "Class distribution looks good."
   ]
  },
  {
   "cell_type": "code",
   "execution_count": 6,
   "id": "9a5e5a3c",
   "metadata": {},
   "outputs": [
    {
     "data": {
      "text/plain": [
       "0"
      ]
     },
     "execution_count": 6,
     "metadata": {},
     "output_type": "execute_result"
    }
   ],
   "source": [
    "data.isnull().sum().sum()"
   ]
  },
  {
   "cell_type": "markdown",
   "id": "b808095f",
   "metadata": {},
   "source": [
    "The data has no missing values"
   ]
  },
  {
   "cell_type": "code",
   "execution_count": 7,
   "id": "e1643660",
   "metadata": {},
   "outputs": [
    {
     "data": {
      "text/html": [
       "<div>\n",
       "<style scoped>\n",
       "    .dataframe tbody tr th:only-of-type {\n",
       "        vertical-align: middle;\n",
       "    }\n",
       "\n",
       "    .dataframe tbody tr th {\n",
       "        vertical-align: top;\n",
       "    }\n",
       "\n",
       "    .dataframe thead th {\n",
       "        text-align: right;\n",
       "    }\n",
       "</style>\n",
       "<table border=\"1\" class=\"dataframe\">\n",
       "  <thead>\n",
       "    <tr style=\"text-align: right;\">\n",
       "      <th></th>\n",
       "      <th>tBodyAcc-mean()-X</th>\n",
       "      <th>tBodyAcc-mean()-Y</th>\n",
       "      <th>tBodyAcc-mean()-Z</th>\n",
       "      <th>tBodyAcc-std()-X</th>\n",
       "      <th>tBodyAcc-std()-Y</th>\n",
       "      <th>tBodyAcc-std()-Z</th>\n",
       "      <th>tBodyAcc-mad()-X</th>\n",
       "      <th>tBodyAcc-mad()-Y</th>\n",
       "      <th>tBodyAcc-mad()-Z</th>\n",
       "      <th>tBodyAcc-max()-X</th>\n",
       "      <th>...</th>\n",
       "      <th>fBodyBodyGyroJerkMag-skewness()</th>\n",
       "      <th>fBodyBodyGyroJerkMag-kurtosis()</th>\n",
       "      <th>angle(tBodyAccMean,gravity)</th>\n",
       "      <th>angle(tBodyAccJerkMean),gravityMean)</th>\n",
       "      <th>angle(tBodyGyroMean,gravityMean)</th>\n",
       "      <th>angle(tBodyGyroJerkMean,gravityMean)</th>\n",
       "      <th>angle(X,gravityMean)</th>\n",
       "      <th>angle(Y,gravityMean)</th>\n",
       "      <th>angle(Z,gravityMean)</th>\n",
       "      <th>subject</th>\n",
       "    </tr>\n",
       "  </thead>\n",
       "  <tbody>\n",
       "    <tr>\n",
       "      <th>count</th>\n",
       "      <td>7352.000000</td>\n",
       "      <td>7352.000000</td>\n",
       "      <td>7352.000000</td>\n",
       "      <td>7352.000000</td>\n",
       "      <td>7352.000000</td>\n",
       "      <td>7352.000000</td>\n",
       "      <td>7352.000000</td>\n",
       "      <td>7352.000000</td>\n",
       "      <td>7352.000000</td>\n",
       "      <td>7352.000000</td>\n",
       "      <td>...</td>\n",
       "      <td>7352.000000</td>\n",
       "      <td>7352.000000</td>\n",
       "      <td>7352.000000</td>\n",
       "      <td>7352.000000</td>\n",
       "      <td>7352.000000</td>\n",
       "      <td>7352.000000</td>\n",
       "      <td>7352.000000</td>\n",
       "      <td>7352.000000</td>\n",
       "      <td>7352.000000</td>\n",
       "      <td>7352.000000</td>\n",
       "    </tr>\n",
       "    <tr>\n",
       "      <th>mean</th>\n",
       "      <td>0.274488</td>\n",
       "      <td>-0.017695</td>\n",
       "      <td>-0.109141</td>\n",
       "      <td>-0.605438</td>\n",
       "      <td>-0.510938</td>\n",
       "      <td>-0.604754</td>\n",
       "      <td>-0.630512</td>\n",
       "      <td>-0.526907</td>\n",
       "      <td>-0.606150</td>\n",
       "      <td>-0.468604</td>\n",
       "      <td>...</td>\n",
       "      <td>-0.307009</td>\n",
       "      <td>-0.625294</td>\n",
       "      <td>0.008684</td>\n",
       "      <td>0.002186</td>\n",
       "      <td>0.008726</td>\n",
       "      <td>-0.005981</td>\n",
       "      <td>-0.489547</td>\n",
       "      <td>0.058593</td>\n",
       "      <td>-0.056515</td>\n",
       "      <td>17.413085</td>\n",
       "    </tr>\n",
       "    <tr>\n",
       "      <th>std</th>\n",
       "      <td>0.070261</td>\n",
       "      <td>0.040811</td>\n",
       "      <td>0.056635</td>\n",
       "      <td>0.448734</td>\n",
       "      <td>0.502645</td>\n",
       "      <td>0.418687</td>\n",
       "      <td>0.424073</td>\n",
       "      <td>0.485942</td>\n",
       "      <td>0.414122</td>\n",
       "      <td>0.544547</td>\n",
       "      <td>...</td>\n",
       "      <td>0.321011</td>\n",
       "      <td>0.307584</td>\n",
       "      <td>0.336787</td>\n",
       "      <td>0.448306</td>\n",
       "      <td>0.608303</td>\n",
       "      <td>0.477975</td>\n",
       "      <td>0.511807</td>\n",
       "      <td>0.297480</td>\n",
       "      <td>0.279122</td>\n",
       "      <td>8.975143</td>\n",
       "    </tr>\n",
       "    <tr>\n",
       "      <th>min</th>\n",
       "      <td>-1.000000</td>\n",
       "      <td>-1.000000</td>\n",
       "      <td>-1.000000</td>\n",
       "      <td>-1.000000</td>\n",
       "      <td>-0.999873</td>\n",
       "      <td>-1.000000</td>\n",
       "      <td>-1.000000</td>\n",
       "      <td>-1.000000</td>\n",
       "      <td>-1.000000</td>\n",
       "      <td>-1.000000</td>\n",
       "      <td>...</td>\n",
       "      <td>-0.995357</td>\n",
       "      <td>-0.999765</td>\n",
       "      <td>-0.976580</td>\n",
       "      <td>-1.000000</td>\n",
       "      <td>-1.000000</td>\n",
       "      <td>-1.000000</td>\n",
       "      <td>-1.000000</td>\n",
       "      <td>-1.000000</td>\n",
       "      <td>-1.000000</td>\n",
       "      <td>1.000000</td>\n",
       "    </tr>\n",
       "    <tr>\n",
       "      <th>25%</th>\n",
       "      <td>0.262975</td>\n",
       "      <td>-0.024863</td>\n",
       "      <td>-0.120993</td>\n",
       "      <td>-0.992754</td>\n",
       "      <td>-0.978129</td>\n",
       "      <td>-0.980233</td>\n",
       "      <td>-0.993591</td>\n",
       "      <td>-0.978162</td>\n",
       "      <td>-0.980251</td>\n",
       "      <td>-0.936219</td>\n",
       "      <td>...</td>\n",
       "      <td>-0.542602</td>\n",
       "      <td>-0.845573</td>\n",
       "      <td>-0.121527</td>\n",
       "      <td>-0.289549</td>\n",
       "      <td>-0.482273</td>\n",
       "      <td>-0.376341</td>\n",
       "      <td>-0.812065</td>\n",
       "      <td>-0.017885</td>\n",
       "      <td>-0.143414</td>\n",
       "      <td>8.000000</td>\n",
       "    </tr>\n",
       "    <tr>\n",
       "      <th>50%</th>\n",
       "      <td>0.277193</td>\n",
       "      <td>-0.017219</td>\n",
       "      <td>-0.108676</td>\n",
       "      <td>-0.946196</td>\n",
       "      <td>-0.851897</td>\n",
       "      <td>-0.859365</td>\n",
       "      <td>-0.950709</td>\n",
       "      <td>-0.857328</td>\n",
       "      <td>-0.857143</td>\n",
       "      <td>-0.881637</td>\n",
       "      <td>...</td>\n",
       "      <td>-0.343685</td>\n",
       "      <td>-0.711692</td>\n",
       "      <td>0.009509</td>\n",
       "      <td>0.008943</td>\n",
       "      <td>0.008735</td>\n",
       "      <td>-0.000368</td>\n",
       "      <td>-0.709417</td>\n",
       "      <td>0.182071</td>\n",
       "      <td>0.003181</td>\n",
       "      <td>19.000000</td>\n",
       "    </tr>\n",
       "    <tr>\n",
       "      <th>75%</th>\n",
       "      <td>0.288461</td>\n",
       "      <td>-0.010783</td>\n",
       "      <td>-0.097794</td>\n",
       "      <td>-0.242813</td>\n",
       "      <td>-0.034231</td>\n",
       "      <td>-0.262415</td>\n",
       "      <td>-0.292680</td>\n",
       "      <td>-0.066701</td>\n",
       "      <td>-0.265671</td>\n",
       "      <td>-0.017129</td>\n",
       "      <td>...</td>\n",
       "      <td>-0.126979</td>\n",
       "      <td>-0.503878</td>\n",
       "      <td>0.150865</td>\n",
       "      <td>0.292861</td>\n",
       "      <td>0.506187</td>\n",
       "      <td>0.359368</td>\n",
       "      <td>-0.509079</td>\n",
       "      <td>0.248353</td>\n",
       "      <td>0.107659</td>\n",
       "      <td>26.000000</td>\n",
       "    </tr>\n",
       "    <tr>\n",
       "      <th>max</th>\n",
       "      <td>1.000000</td>\n",
       "      <td>1.000000</td>\n",
       "      <td>1.000000</td>\n",
       "      <td>1.000000</td>\n",
       "      <td>0.916238</td>\n",
       "      <td>1.000000</td>\n",
       "      <td>1.000000</td>\n",
       "      <td>0.967664</td>\n",
       "      <td>1.000000</td>\n",
       "      <td>1.000000</td>\n",
       "      <td>...</td>\n",
       "      <td>0.989538</td>\n",
       "      <td>0.956845</td>\n",
       "      <td>1.000000</td>\n",
       "      <td>1.000000</td>\n",
       "      <td>0.998702</td>\n",
       "      <td>0.996078</td>\n",
       "      <td>1.000000</td>\n",
       "      <td>0.478157</td>\n",
       "      <td>1.000000</td>\n",
       "      <td>30.000000</td>\n",
       "    </tr>\n",
       "  </tbody>\n",
       "</table>\n",
       "<p>8 rows × 562 columns</p>\n",
       "</div>"
      ],
      "text/plain": [
       "       tBodyAcc-mean()-X  tBodyAcc-mean()-Y  tBodyAcc-mean()-Z  \\\n",
       "count        7352.000000        7352.000000        7352.000000   \n",
       "mean            0.274488          -0.017695          -0.109141   \n",
       "std             0.070261           0.040811           0.056635   \n",
       "min            -1.000000          -1.000000          -1.000000   \n",
       "25%             0.262975          -0.024863          -0.120993   \n",
       "50%             0.277193          -0.017219          -0.108676   \n",
       "75%             0.288461          -0.010783          -0.097794   \n",
       "max             1.000000           1.000000           1.000000   \n",
       "\n",
       "       tBodyAcc-std()-X  tBodyAcc-std()-Y  tBodyAcc-std()-Z  tBodyAcc-mad()-X  \\\n",
       "count       7352.000000       7352.000000       7352.000000       7352.000000   \n",
       "mean          -0.605438         -0.510938         -0.604754         -0.630512   \n",
       "std            0.448734          0.502645          0.418687          0.424073   \n",
       "min           -1.000000         -0.999873         -1.000000         -1.000000   \n",
       "25%           -0.992754         -0.978129         -0.980233         -0.993591   \n",
       "50%           -0.946196         -0.851897         -0.859365         -0.950709   \n",
       "75%           -0.242813         -0.034231         -0.262415         -0.292680   \n",
       "max            1.000000          0.916238          1.000000          1.000000   \n",
       "\n",
       "       tBodyAcc-mad()-Y  tBodyAcc-mad()-Z  tBodyAcc-max()-X  ...  \\\n",
       "count       7352.000000       7352.000000       7352.000000  ...   \n",
       "mean          -0.526907         -0.606150         -0.468604  ...   \n",
       "std            0.485942          0.414122          0.544547  ...   \n",
       "min           -1.000000         -1.000000         -1.000000  ...   \n",
       "25%           -0.978162         -0.980251         -0.936219  ...   \n",
       "50%           -0.857328         -0.857143         -0.881637  ...   \n",
       "75%           -0.066701         -0.265671         -0.017129  ...   \n",
       "max            0.967664          1.000000          1.000000  ...   \n",
       "\n",
       "       fBodyBodyGyroJerkMag-skewness()  fBodyBodyGyroJerkMag-kurtosis()  \\\n",
       "count                      7352.000000                      7352.000000   \n",
       "mean                         -0.307009                        -0.625294   \n",
       "std                           0.321011                         0.307584   \n",
       "min                          -0.995357                        -0.999765   \n",
       "25%                          -0.542602                        -0.845573   \n",
       "50%                          -0.343685                        -0.711692   \n",
       "75%                          -0.126979                        -0.503878   \n",
       "max                           0.989538                         0.956845   \n",
       "\n",
       "       angle(tBodyAccMean,gravity)  angle(tBodyAccJerkMean),gravityMean)  \\\n",
       "count                  7352.000000                           7352.000000   \n",
       "mean                      0.008684                              0.002186   \n",
       "std                       0.336787                              0.448306   \n",
       "min                      -0.976580                             -1.000000   \n",
       "25%                      -0.121527                             -0.289549   \n",
       "50%                       0.009509                              0.008943   \n",
       "75%                       0.150865                              0.292861   \n",
       "max                       1.000000                              1.000000   \n",
       "\n",
       "       angle(tBodyGyroMean,gravityMean)  angle(tBodyGyroJerkMean,gravityMean)  \\\n",
       "count                       7352.000000                           7352.000000   \n",
       "mean                           0.008726                             -0.005981   \n",
       "std                            0.608303                              0.477975   \n",
       "min                           -1.000000                             -1.000000   \n",
       "25%                           -0.482273                             -0.376341   \n",
       "50%                            0.008735                             -0.000368   \n",
       "75%                            0.506187                              0.359368   \n",
       "max                            0.998702                              0.996078   \n",
       "\n",
       "       angle(X,gravityMean)  angle(Y,gravityMean)  angle(Z,gravityMean)  \\\n",
       "count           7352.000000           7352.000000           7352.000000   \n",
       "mean              -0.489547              0.058593             -0.056515   \n",
       "std                0.511807              0.297480              0.279122   \n",
       "min               -1.000000             -1.000000             -1.000000   \n",
       "25%               -0.812065             -0.017885             -0.143414   \n",
       "50%               -0.709417              0.182071              0.003181   \n",
       "75%               -0.509079              0.248353              0.107659   \n",
       "max                1.000000              0.478157              1.000000   \n",
       "\n",
       "           subject  \n",
       "count  7352.000000  \n",
       "mean     17.413085  \n",
       "std       8.975143  \n",
       "min       1.000000  \n",
       "25%       8.000000  \n",
       "50%      19.000000  \n",
       "75%      26.000000  \n",
       "max      30.000000  \n",
       "\n",
       "[8 rows x 562 columns]"
      ]
     },
     "execution_count": 7,
     "metadata": {},
     "output_type": "execute_result"
    }
   ],
   "source": [
    "data.describe()"
   ]
  },
  {
   "cell_type": "code",
   "execution_count": 28,
   "id": "cc916dcb",
   "metadata": {},
   "outputs": [
    {
     "data": {
      "text/plain": [
       "tGravityAcc-arCoeff()-Z,1             0.648774\n",
       "tGravityAcc-arCoeff()-Z,3             0.585769\n",
       "tBodyAccJerk-max()-Y                  0.624373\n",
       "tBodyAccJerk-energy()-Y               0.634415\n",
       "tBodyGyro-mean()-X                    0.738953\n",
       "fBodyAccJerk-mean()-Y                 0.646809\n",
       "fBodyAccJerk-energy()-Y               0.634320\n",
       "fBodyAccJerk-iqr()-Y                  0.641321\n",
       "fBodyAccJerk-meanFreq()-Z             0.678628\n",
       "fBodyAccJerk-kurtosis()-X             0.660042\n",
       "fBodyAccJerk-bandsEnergy()-1,8.1      0.702928\n",
       "fBodyAccJerk-bandsEnergy()-33,40.1    0.632415\n",
       "fBodyGyro-min()-X                     0.465197\n",
       "fBodyGyro-min()-Y                     0.794498\n",
       "fBodyGyro-maxInds-Z                   0.655172\n",
       "angle(Y,gravityMean)                  0.478157\n",
       "dtype: float64"
      ]
     },
     "execution_count": 28,
     "metadata": {},
     "output_type": "execute_result"
    }
   ],
   "source": [
    "max_df = data.drop(columns=['Activity']).max()\n",
    "max_df[max_df <0.8]"
   ]
  },
  {
   "cell_type": "code",
   "execution_count": 29,
   "id": "25430dee",
   "metadata": {},
   "outputs": [
    {
     "data": {
      "text/plain": [
       "subject    30.0\n",
       "dtype: float64"
      ]
     },
     "execution_count": 29,
     "metadata": {},
     "output_type": "execute_result"
    }
   ],
   "source": [
    "max_df[max_df > 1]"
   ]
  },
  {
   "cell_type": "code",
   "execution_count": 30,
   "id": "b20faa4b",
   "metadata": {},
   "outputs": [
    {
     "data": {
      "text/plain": [
       "Series([], dtype: float64)"
      ]
     },
     "execution_count": 30,
     "metadata": {},
     "output_type": "execute_result"
    }
   ],
   "source": [
    "min_df = data.drop(columns=['Activity']).min()\n",
    "min_df[min_df < -1]"
   ]
  },
  {
   "cell_type": "code",
   "execution_count": 31,
   "id": "00035ff4",
   "metadata": {},
   "outputs": [
    {
     "data": {
      "text/plain": [
       "tBodyAcc-arCoeff()-Z,2        -0.753754\n",
       "tGravityAcc-mean()-Y          -0.535222\n",
       "tGravityAcc-max()-Y           -0.493874\n",
       "tGravityAcc-min()-Y           -0.568157\n",
       "tGravityAcc-arCoeff()-Z,2     -0.617636\n",
       "tGravityAcc-arCoeff()-Z,4     -0.554000\n",
       "tBodyAccJerk-min()-Y          -0.746907\n",
       "tBodyAccJerk-arCoeff()-Z,2    -0.799069\n",
       "tBodyGyroJerk-min()-Z         -0.759790\n",
       "tBodyGyroJerk-arCoeff()-Y,3   -0.773597\n",
       "subject                        1.000000\n",
       "dtype: float64"
      ]
     },
     "execution_count": 31,
     "metadata": {},
     "output_type": "execute_result"
    }
   ],
   "source": [
    "min_df[min_df > -0.8]"
   ]
  },
  {
   "cell_type": "markdown",
   "id": "115267e8",
   "metadata": {},
   "source": [
    "All features seem to be normalized already and are mostly in the range of (-1, 1) except the feature subject which can be dropped. "
   ]
  },
  {
   "cell_type": "code",
   "execution_count": 8,
   "id": "4e1dcd02",
   "metadata": {},
   "outputs": [],
   "source": [
    "X = data.drop(columns = ['Activity', 'subject'])\n",
    "y = data['Activity']"
   ]
  },
  {
   "cell_type": "markdown",
   "id": "0e60e3d5",
   "metadata": {},
   "source": [
    "#### Splitting the dataset to train and test: "
   ]
  },
  {
   "cell_type": "code",
   "execution_count": 9,
   "id": "f3635750",
   "metadata": {},
   "outputs": [],
   "source": [
    "X_train, X_test, y_train, y_test = train_test_split(X, y, test_size=0.25, random_state=42)"
   ]
  },
  {
   "cell_type": "code",
   "execution_count": 32,
   "id": "862600d8",
   "metadata": {},
   "outputs": [],
   "source": [
    "from sklearn.preprocessing import LabelEncoder\n",
    "encoder = LabelEncoder()\n",
    "encoder.fit(y_train)\n",
    "y_train_encoded = encoder.transform(y_train)"
   ]
  },
  {
   "cell_type": "code",
   "execution_count": 36,
   "id": "348efa6e",
   "metadata": {},
   "outputs": [
    {
     "data": {
      "text/plain": [
       "['LAYING',\n",
       " 'SITTING',\n",
       " 'STANDING',\n",
       " 'WALKING',\n",
       " 'WALKING_DOWNSTAIRS',\n",
       " 'WALKING_UPSTAIRS']"
      ]
     },
     "execution_count": 36,
     "metadata": {},
     "output_type": "execute_result"
    }
   ],
   "source": [
    "list(encoder.classes_)"
   ]
  },
  {
   "cell_type": "code",
   "execution_count": 38,
   "id": "bdad92ea",
   "metadata": {},
   "outputs": [],
   "source": [
    "y_test_encoded = encoder.transform(y_test)"
   ]
  },
  {
   "cell_type": "markdown",
   "id": "4537365d",
   "metadata": {},
   "source": [
    "#### Linear kernel"
   ]
  },
  {
   "cell_type": "markdown",
   "id": "5685d2a2",
   "metadata": {},
   "source": [
    "C = 0.001"
   ]
  },
  {
   "cell_type": "code",
   "execution_count": 50,
   "id": "029398ec",
   "metadata": {},
   "outputs": [
    {
     "name": "stdout",
     "output_type": "stream",
     "text": [
      "Training set accuracy score:  0.9111\n",
      "Testing set accuracy score:  0.9151\n"
     ]
    }
   ],
   "source": [
    "svc = SVC(kernel='linear', C=0.001) #The lower the C parameter, the softer the margin\n",
    "svc.fit(X_train, y_train_encoded)\n",
    "print(\"Training set accuracy score: \", round(accuracy_score(y_train_encoded, svc.predict(X_train)), 4))\n",
    "print(\"Testing set accuracy score: \", round(accuracy_score(y_test_encoded , svc.predict(X_test)), 4))"
   ]
  },
  {
   "cell_type": "markdown",
   "id": "b5d7d582",
   "metadata": {},
   "source": [
    "C = 1"
   ]
  },
  {
   "cell_type": "code",
   "execution_count": 48,
   "id": "2c131d32",
   "metadata": {},
   "outputs": [
    {
     "name": "stdout",
     "output_type": "stream",
     "text": [
      "Training set accuracy score:  0.9946\n",
      "Testing set accuracy score:  0.9859\n"
     ]
    }
   ],
   "source": [
    "svc = SVC(kernel='linear', C= 1)\n",
    "svc.fit(X_train, y_train_encoded)\n",
    "print(\"Training set accuracy score: \", round(accuracy_score(y_train_encoded, svc.predict(X_train)), 4))\n",
    "print(\"Testing set accuracy score: \", round(accuracy_score(y_test_encoded , svc.predict(X_test)), 4))"
   ]
  },
  {
   "cell_type": "markdown",
   "id": "1fc2ae6c",
   "metadata": {},
   "source": [
    "C = 100"
   ]
  },
  {
   "cell_type": "code",
   "execution_count": 49,
   "id": "6277a92c",
   "metadata": {},
   "outputs": [
    {
     "name": "stdout",
     "output_type": "stream",
     "text": [
      "Training set accuracy score:  1.0\n",
      "Testing set accuracy score:  0.9744\n"
     ]
    }
   ],
   "source": [
    "svc = SVC(kernel='linear', C= 100)\n",
    "svc.fit(X_train, y_train_encoded)\n",
    "print(\"Training set accuracy score: \", round(accuracy_score(y_train_encoded, svc.predict(X_train)), 4))\n",
    "print(\"Testing set accuracy score: \", round(accuracy_score(y_test_encoded , svc.predict(X_test)), 4))"
   ]
  },
  {
   "cell_type": "markdown",
   "id": "b678ae35",
   "metadata": {},
   "source": [
    "The optimal value of C for SVM classifier with a linear model is 1 as the accuracy is good for both the training and testing datasets "
   ]
  },
  {
   "cell_type": "markdown",
   "id": "4950b3f2",
   "metadata": {},
   "source": [
    "#### RBF kernel"
   ]
  },
  {
   "cell_type": "markdown",
   "id": "03caf6e1",
   "metadata": {},
   "source": [
    "C = 0.01"
   ]
  },
  {
   "cell_type": "code",
   "execution_count": 39,
   "id": "06de6aa9",
   "metadata": {},
   "outputs": [
    {
     "name": "stdout",
     "output_type": "stream",
     "text": [
      "Training set accuracy score:  0.98\n",
      "Testing set accuracy score:  0.97\n"
     ]
    }
   ],
   "source": [
    "svc = SVC(kernel='rbf', C = 0.01)\n",
    "svc.fit(X_train, y_train_encoded)\n",
    "print(\"Training set accuracy score: \", round(accuracy_score(y_train_encoded, svc.predict(X_train)), 4))\n",
    "print(\"Testing set accuracy score: \", round(accuracy_score(y_test_encoded , svc.predict(X_test)), 4))"
   ]
  },
  {
   "cell_type": "markdown",
   "id": "8a3db30d",
   "metadata": {},
   "source": [
    "C = 1"
   ]
  },
  {
   "cell_type": "code",
   "execution_count": 51,
   "id": "693a6032",
   "metadata": {},
   "outputs": [
    {
     "name": "stdout",
     "output_type": "stream",
     "text": [
      "Training set accuracy score:  0.9762\n",
      "Testing set accuracy score:  0.9684\n"
     ]
    }
   ],
   "source": [
    "svc = SVC(kernel='rbf', C = 1)\n",
    "svc.fit(X_train, y_train_encoded)\n",
    "print(\"Training set accuracy score: \", round(accuracy_score(y_train_encoded, svc.predict(X_train)), 4))\n",
    "print(\"Testing set accuracy score: \", round(accuracy_score(y_test_encoded , svc.predict(X_test)), 4))"
   ]
  },
  {
   "cell_type": "markdown",
   "id": "0fbdce48",
   "metadata": {},
   "source": [
    "C = 100"
   ]
  },
  {
   "cell_type": "code",
   "execution_count": 52,
   "id": "c137a8fa",
   "metadata": {},
   "outputs": [
    {
     "name": "stdout",
     "output_type": "stream",
     "text": [
      "Training set accuracy score:  0.9993\n",
      "Testing set accuracy score:  0.9908\n"
     ]
    }
   ],
   "source": [
    "svc = SVC(kernel='rbf', C = 100)\n",
    "svc.fit(X_train, y_train_encoded)\n",
    "print(\"Training set accuracy score: \", round(accuracy_score(y_train_encoded, svc.predict(X_train)), 4))\n",
    "print(\"Testing set accuracy score: \", round(accuracy_score(y_test_encoded , svc.predict(X_test)), 4))"
   ]
  },
  {
   "cell_type": "markdown",
   "id": "9b4af33a",
   "metadata": {},
   "source": [
    "For SVM with radial kernel, the model accuracy is good for C = 100 for both the training and testing data."
   ]
  },
  {
   "cell_type": "markdown",
   "id": "376d5fa4",
   "metadata": {},
   "source": [
    "#### Polynomial kernel"
   ]
  },
  {
   "cell_type": "markdown",
   "id": "52e8c7a8",
   "metadata": {},
   "source": [
    "C = 0.01"
   ]
  },
  {
   "cell_type": "code",
   "execution_count": 53,
   "id": "f1df4397",
   "metadata": {},
   "outputs": [
    {
     "name": "stdout",
     "output_type": "stream",
     "text": [
      "Training set accuracy score:  0.8758\n",
      "Testing set accuracy score:  0.8814\n"
     ]
    }
   ],
   "source": [
    "svc = SVC(kernel='poly', degree = 3, C = 0.01)\n",
    "svc.fit(X_train, y_train_encoded)\n",
    "print(\"Training set accuracy score: \", round(accuracy_score(y_train_encoded, svc.predict(X_train)), 4))\n",
    "print(\"Testing set accuracy score: \", round(accuracy_score(y_test_encoded , svc.predict(X_test)), 4))"
   ]
  },
  {
   "cell_type": "markdown",
   "id": "edc5d99d",
   "metadata": {},
   "source": [
    "C = 1"
   ]
  },
  {
   "cell_type": "code",
   "execution_count": 42,
   "id": "59d7a695",
   "metadata": {},
   "outputs": [
    {
     "name": "stdout",
     "output_type": "stream",
     "text": [
      "Training set accuracy score:  0.99\n",
      "Testing set accuracy score:  0.98\n"
     ]
    }
   ],
   "source": [
    "svc = SVC(kernel='poly', degree = 3, C = 1)\n",
    "svc.fit(X_train, y_train_encoded)\n",
    "print(\"Training set accuracy score: \", round(accuracy_score(y_train_encoded, svc.predict(X_train)), 4))\n",
    "print(\"Testing set accuracy score: \", round(accuracy_score(y_test_encoded , svc.predict(X_test)), 4))"
   ]
  },
  {
   "cell_type": "markdown",
   "id": "eeea972d",
   "metadata": {},
   "source": [
    "C = 100"
   ]
  },
  {
   "cell_type": "code",
   "execution_count": 54,
   "id": "c098607a",
   "metadata": {},
   "outputs": [
    {
     "name": "stdout",
     "output_type": "stream",
     "text": [
      "Training set accuracy score:  1.0\n",
      "Testing set accuracy score:  0.982\n"
     ]
    }
   ],
   "source": [
    "svc = SVC(kernel='poly', degree = 3, C = 100)\n",
    "svc.fit(X_train, y_train_encoded)\n",
    "print(\"Training set accuracy score: \", round(accuracy_score(y_train_encoded, svc.predict(X_train)), 4))\n",
    "print(\"Testing set accuracy score: \", round(accuracy_score(y_test_encoded , svc.predict(X_test)), 4))"
   ]
  },
  {
   "cell_type": "markdown",
   "id": "f91a312a",
   "metadata": {},
   "source": [
    "For SVM with polynomial kernel, the model accuracy is good for C = 1 for both the training and testing data."
   ]
  },
  {
   "cell_type": "markdown",
   "id": "338c3fbb",
   "metadata": {},
   "source": [
    "#### Sigmoid kernel"
   ]
  },
  {
   "cell_type": "markdown",
   "id": "bd115cc1",
   "metadata": {},
   "source": [
    "C = 0.01"
   ]
  },
  {
   "cell_type": "code",
   "execution_count": 46,
   "id": "736ecf6b",
   "metadata": {},
   "outputs": [
    {
     "name": "stdout",
     "output_type": "stream",
     "text": [
      "Training set accuracy score:  0.84\n",
      "Testing set accuracy score:  0.82\n"
     ]
    }
   ],
   "source": [
    "svc = SVC(kernel='sigmoid', C=0.01)\n",
    "svc.fit(X_train, y_train_encoded)\n",
    "print(\"Training set accuracy score: \", round(accuracy_score(y_train_encoded, svc.predict(X_train)), 4))\n",
    "print(\"Testing set accuracy score: \", round(accuracy_score(y_test_encoded , svc.predict(X_test)), 4))"
   ]
  },
  {
   "cell_type": "markdown",
   "id": "4865c887",
   "metadata": {},
   "source": [
    "C = 1"
   ]
  },
  {
   "cell_type": "code",
   "execution_count": 55,
   "id": "ad79c99f",
   "metadata": {},
   "outputs": [
    {
     "name": "stdout",
     "output_type": "stream",
     "text": [
      "Training set accuracy score:  0.8402\n",
      "Testing set accuracy score:  0.8172\n"
     ]
    }
   ],
   "source": [
    "svc = SVC(kernel='sigmoid', C=1)\n",
    "svc.fit(X_train, y_train_encoded)\n",
    "print(\"Training set accuracy score: \", round(accuracy_score(y_train_encoded, svc.predict(X_train)), 4))\n",
    "print(\"Testing set accuracy score: \", round(accuracy_score(y_test_encoded , svc.predict(X_test)), 4))"
   ]
  },
  {
   "cell_type": "markdown",
   "id": "119d8367",
   "metadata": {},
   "source": [
    "C = 100"
   ]
  },
  {
   "cell_type": "code",
   "execution_count": 56,
   "id": "2e84a7d2",
   "metadata": {},
   "outputs": [
    {
     "name": "stdout",
     "output_type": "stream",
     "text": [
      "Training set accuracy score:  0.8825\n",
      "Testing set accuracy score:  0.8569\n"
     ]
    }
   ],
   "source": [
    "svc = SVC(kernel='sigmoid', C=100)\n",
    "svc.fit(X_train, y_train_encoded)\n",
    "print(\"Training set accuracy score: \", round(accuracy_score(y_train_encoded, svc.predict(X_train)), 4))\n",
    "print(\"Testing set accuracy score: \", round(accuracy_score(y_test_encoded , svc.predict(X_test)), 4))"
   ]
  },
  {
   "cell_type": "markdown",
   "id": "325b0a56",
   "metadata": {},
   "source": [
    "For this dataset, rbf and linear kernels with a C value of 100 perform better than the other kernels and hyperparamters settings. "
   ]
  }
 ],
 "metadata": {
  "kernelspec": {
   "display_name": "Python 3 (ipykernel)",
   "language": "python",
   "name": "python3"
  },
  "language_info": {
   "codemirror_mode": {
    "name": "ipython",
    "version": 3
   },
   "file_extension": ".py",
   "mimetype": "text/x-python",
   "name": "python",
   "nbconvert_exporter": "python",
   "pygments_lexer": "ipython3",
   "version": "3.11.5"
  }
 },
 "nbformat": 4,
 "nbformat_minor": 5
}
